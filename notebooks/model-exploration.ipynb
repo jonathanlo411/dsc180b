{
 "cells": [
  {
   "cell_type": "markdown",
   "id": "d1b13aae",
   "metadata": {},
   "source": [
    "# Model Exploration\n",
    "Purpose is to understand models `textblob`, `vaderSentiment`, and Google's `Perspective API`.<br>\n",
    "By: Jonathan Lo<br>\n",
    "Date: 1/16/23"
   ]
  },
  {
   "cell_type": "code",
   "execution_count": 1,
   "id": "0e31d54c",
   "metadata": {},
   "outputs": [],
   "source": [
    "# Model Imports\n",
    "from textblob import TextBlob\n",
    "from vaderSentiment.vaderSentiment import SentimentIntensityAnalyzer\n",
    "\n",
    "# Overhead Imports\n",
    "from json import load\n",
    "import requests as r"
   ]
  },
  {
   "cell_type": "code",
   "execution_count": 2,
   "id": "10951cfd",
   "metadata": {},
   "outputs": [],
   "source": [
    "# Loading secrets\n",
    "SECRETS = load(open('../secrets.json', 'r'))"
   ]
  },
  {
   "cell_type": "markdown",
   "id": "5dd7a4c7",
   "metadata": {},
   "source": [
    "## Model Setup"
   ]
  },
  {
   "cell_type": "code",
   "execution_count": 3,
   "id": "5fc1584e",
   "metadata": {},
   "outputs": [],
   "source": [
    "# Perspective API\n",
    "def fetchPerspective(text: str):\n",
    "    \"\"\" Sends a request to Perspective API for classification.\n",
    "    \"\"\"\n",
    "    opts = {\n",
    "        \"q\": text,\n",
    "        \"auth\": f\"Bearer {SECRETS['PerspectiveAPIKey']}\"\n",
    "    }\n",
    "    res = r.get('<API URL>', params=opts)\n",
    "    return res.json()"
   ]
  },
  {
   "cell_type": "code",
   "execution_count": 4,
   "id": "408b1f72",
   "metadata": {},
   "outputs": [],
   "source": [
    "# TextBlob\n",
    "def testTextBlobPolairty(text: str):\n",
    "    \"\"\" Returns the polarity of the text using TextBlob.\n",
    "    \"\"\"\n",
    "    return TextBlob(text).sentiment.polarity\n",
    "\n",
    "def testTextBlobObjectivity(text: str):\n",
    "    \"\"\" Returns the objectivity of the text using TextBlob.\n",
    "    \"\"\"\n",
    "    return TextBlob(text).sentiment.subjectivity"
   ]
  },
  {
   "cell_type": "code",
   "execution_count": 5,
   "id": "3aafafb6",
   "metadata": {},
   "outputs": [],
   "source": [
    "# VaderSentiment\n",
    "def testVaderSentiment(text: str):\n",
    "    \"\"\" Returns the sentiment score given by VaderSentiment.\n",
    "    \"\"\"\n",
    "    analyzer = SentimentIntensityAnalyzer()\n",
    "    res = analyzer.polarity_scores(text)\n",
    "    return res['compound']"
   ]
  },
  {
   "cell_type": "markdown",
   "id": "a1b5fc13",
   "metadata": {},
   "source": [
    "## Sample Testing"
   ]
  },
  {
   "cell_type": "code",
   "execution_count": 6,
   "id": "1ce2f89c",
   "metadata": {},
   "outputs": [
    {
     "data": {
      "text/plain": [
       "[{'tbPolairty': 0.0, 'tbObjectivity': 0.0, 'vsScore': 0.4019},\n",
       " {'tbPolairty': 0.5, 'tbObjectivity': 0.6, 'vsScore': 0.0577},\n",
       " {'tbPolairty': 0.0, 'tbObjectivity': 0.0, 'vsScore': 0.4847},\n",
       " {'tbPolairty': -1.0, 'tbObjectivity': 1.0, 'vsScore': -0.6597},\n",
       " {'tbPolairty': 0.0, 'tbObjectivity': 0.0, 'vsScore': 0.0},\n",
       " {'tbPolairty': 0.0, 'tbObjectivity': 0.0, 'vsScore': 0.0},\n",
       " {'tbPolairty': 0.0, 'tbObjectivity': 0.0, 'vsScore': 0.0}]"
      ]
     },
     "execution_count": 6,
     "metadata": {},
     "output_type": "execute_result"
    }
   ],
   "source": [
    "sentences = [\n",
    "    'You must be the change you wish to see in the world.',\n",
    "    'Spread love everywhere you go. Let no one ever come to you without leaving happier.',\n",
    "    'There is No War in Ba Sing Se.',\n",
    "    'Money is the root of all evil.',\n",
    "    'He bought the watch from the mall next to the Walmart.',\n",
    "    'She brought her car into the car wash made for washing to wash her car.',\n",
    "    'She sells sea shells by the sea shore.'\n",
    "]\n",
    "results = []\n",
    "\n",
    "for sentence in sentences:\n",
    "    result = {\n",
    "        'tbPolairty': testTextBlobPolairty(sentence),\n",
    "        'tbObjectivity': testTextBlobObjectivity(sentence),\n",
    "        'vsScore': testVaderSentiment(sentence)\n",
    "    }\n",
    "    results.append(result)\n",
    "    \n",
    "results"
   ]
  }
 ],
 "metadata": {
  "kernelspec": {
   "display_name": "Python 3 (ipykernel)",
   "language": "python",
   "name": "python3"
  },
  "language_info": {
   "codemirror_mode": {
    "name": "ipython",
    "version": 3
   },
   "file_extension": ".py",
   "mimetype": "text/x-python",
   "name": "python",
   "nbconvert_exporter": "python",
   "pygments_lexer": "ipython3",
   "version": "3.10.9"
  }
 },
 "nbformat": 4,
 "nbformat_minor": 5
}
