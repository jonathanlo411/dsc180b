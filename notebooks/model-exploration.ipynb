{
 "cells": [
  {
   "cell_type": "markdown",
   "id": "d1b13aae",
   "metadata": {},
   "source": [
    "# Model Exploration\n",
    "Purpose is to understand models `textblob`, `vaderSentiment`, and Google's `Perspective API`.<br>\n",
    "By: Jonathan Lo<br>\n",
    "Date: 1/16/23"
   ]
  },
  {
   "cell_type": "code",
   "execution_count": 1,
   "id": "0e31d54c",
   "metadata": {},
   "outputs": [],
   "source": [
    "# Model Imports\n",
    "from textblob import TextBlob\n",
    "from vaderSentiment.vaderSentiment import SentimentIntensityAnalyzer\n",
    "from googleapiclient import discovery\n",
    "\n",
    "# Overhead Imports\n",
    "from json import load"
   ]
  },
  {
   "cell_type": "code",
   "execution_count": 2,
   "id": "10951cfd",
   "metadata": {},
   "outputs": [],
   "source": [
    "# Loading secrets\n",
    "SECRETS = load(open('../secrets.json', 'r'))"
   ]
  },
  {
   "cell_type": "markdown",
   "id": "5dd7a4c7",
   "metadata": {},
   "source": [
    "## Model Setup"
   ]
  },
  {
   "cell_type": "code",
   "execution_count": 3,
   "id": "568d4ce9",
   "metadata": {},
   "outputs": [],
   "source": [
    "# Create Model Collection class for testing\n",
    "\n",
    "class ModelCollection:\n",
    "    \n",
    "    \n",
    "    def __init__(self, gcp_api_key):\n",
    "        self.perspective_client = discovery.build(\n",
    "            \"commentanalyzer\",\n",
    "            \"v1alpha1\",\n",
    "            developerKey=gcp_api_key,\n",
    "            discoveryServiceUrl=\"https://commentanalyzer.googleapis.com/$discovery/rest?version=v1alpha1\",\n",
    "            static_discovery=False\n",
    "        )\n",
    "        self.vader_analyzer = SentimentIntensityAnalyzer()\n",
    "      \n",
    "    \n",
    "    def queryPerspective(self, text: str):\n",
    "        \"\"\" Sends a request to Perspective API for classification.\n",
    "        \"\"\"\n",
    "        analyze_request = {\n",
    "            'comment': {'text': text},\n",
    "            'requestedAttributes': {'TOXICITY': {}}\n",
    "        }\n",
    "        response = self.perspective_client.comments().analyze(body=analyze_request).execute()\n",
    "        perspective_result = response['attributeScores']['TOXICITY']['spanScores'][0]['score']['value']\n",
    "        return round(perspective_result,3)\n",
    "    \n",
    "    \n",
    "    def queryTextBlobPolairty(self, text: str):\n",
    "        \"\"\" Returns the polarity of the text using TextBlob.\n",
    "        \"\"\"\n",
    "        return TextBlob(text).sentiment.polarity\n",
    "\n",
    "    \n",
    "    def queryTextBlobObjectivity(self, text: str):\n",
    "        \"\"\" Returns the objectivity of the text using TextBlob.\n",
    "        \"\"\"\n",
    "        return TextBlob(text).sentiment.subjectivity\n",
    "    \n",
    "    \n",
    "    def queryVaderSentiment(self, text: str):\n",
    "        \"\"\" Returns the sentiment score given by VaderSentiment.\n",
    "        \"\"\"\n",
    "        res = self.vader_analyzer.polarity_scores(text)\n",
    "        return res['compound']\n",
    "    \n",
    "    \n",
    "    def queryAllModelsSingle(self, text: str):\n",
    "        \"\"\" Querys all of the models.\n",
    "        \"\"\"\n",
    "        result = {\n",
    "            'perspectiveScore': self.queryPerspective(text),\n",
    "            'tbPolairty': self.queryTextBlobPolairty(text),\n",
    "            'tbObjectivity': self.queryTextBlobObjectivity(text),\n",
    "            'vsScore': self.queryVaderSentiment(text)\n",
    "        }\n",
    "        return result\n",
    "    \n",
    "    \n",
    "    def queryAllModelsBulk(self, text_items: list):\n",
    "        \"\"\" Querys all of the models for each item in the sentence.\n",
    "        \"\"\"\n",
    "        results = []\n",
    "        for sentence in text_items:\n",
    "            results.append(mc.queryAllModelsSingle(sentence))\n",
    "        return results\n",
    "    "
   ]
  },
  {
   "cell_type": "markdown",
   "id": "a1b5fc13",
   "metadata": {},
   "source": [
    "## Sample Testing"
   ]
  },
  {
   "cell_type": "code",
   "execution_count": 4,
   "id": "5713ca71",
   "metadata": {},
   "outputs": [],
   "source": [
    "# Initialize Model Collection and testing sentances\n",
    "mc = ModelCollection(gcp_api_key=SECRETS['PerspectiveAPIKey'])\n",
    "sentences = [\n",
    "    'You must be the change you wish to see in the world.',\n",
    "    'Spread love everywhere you go. Let no one ever come to you without leaving happier.',\n",
    "    'There is No War in Ba Sing Se.',\n",
    "    'Money is the root of all evil.',\n",
    "    'He bought the watch from the mall next to the Walmart.',\n",
    "    'She brought her car into the car wash made for washing to wash her car.',\n",
    "    'She sells sea shells by the sea shore.'\n",
    "]"
   ]
  },
  {
   "cell_type": "code",
   "execution_count": 5,
   "id": "1ce2f89c",
   "metadata": {},
   "outputs": [
    {
     "data": {
      "text/plain": [
       "[{'perspectiveScore': 0.041,\n",
       "  'tbPolairty': 0.0,\n",
       "  'tbObjectivity': 0.0,\n",
       "  'vsScore': 0.4019},\n",
       " {'perspectiveScore': 0.05,\n",
       "  'tbPolairty': 0.5,\n",
       "  'tbObjectivity': 0.6,\n",
       "  'vsScore': 0.0577},\n",
       " {'perspectiveScore': 0.038,\n",
       "  'tbPolairty': 0.0,\n",
       "  'tbObjectivity': 0.0,\n",
       "  'vsScore': 0.4847},\n",
       " {'perspectiveScore': 0.136,\n",
       "  'tbPolairty': -1.0,\n",
       "  'tbObjectivity': 1.0,\n",
       "  'vsScore': -0.6597},\n",
       " {'perspectiveScore': 0.014,\n",
       "  'tbPolairty': 0.0,\n",
       "  'tbObjectivity': 0.0,\n",
       "  'vsScore': 0.0},\n",
       " {'perspectiveScore': 0.053,\n",
       "  'tbPolairty': 0.0,\n",
       "  'tbObjectivity': 0.0,\n",
       "  'vsScore': 0.0},\n",
       " {'perspectiveScore': 0.046,\n",
       "  'tbPolairty': 0.0,\n",
       "  'tbObjectivity': 0.0,\n",
       "  'vsScore': 0.0}]"
      ]
     },
     "execution_count": 5,
     "metadata": {},
     "output_type": "execute_result"
    }
   ],
   "source": [
    "# Querying using individual methods\n",
    "results = []\n",
    "for sentence in sentences:\n",
    "    result = {\n",
    "        'perspectiveScore': mc.queryPerspective(sentence),\n",
    "        'tbPolairty': mc.queryTextBlobPolairty(sentence),\n",
    "        'tbObjectivity': mc.queryTextBlobObjectivity(sentence),\n",
    "        'vsScore': mc.queryVaderSentiment(sentence)\n",
    "    }\n",
    "    results.append(result)\n",
    "    \n",
    "results"
   ]
  },
  {
   "cell_type": "code",
   "execution_count": 6,
   "id": "471d9871",
   "metadata": {},
   "outputs": [
    {
     "data": {
      "text/plain": [
       "[{'perspectiveScore': 0.041,\n",
       "  'tbPolairty': 0.0,\n",
       "  'tbObjectivity': 0.0,\n",
       "  'vsScore': 0.4019},\n",
       " {'perspectiveScore': 0.05,\n",
       "  'tbPolairty': 0.5,\n",
       "  'tbObjectivity': 0.6,\n",
       "  'vsScore': 0.0577},\n",
       " {'perspectiveScore': 0.038,\n",
       "  'tbPolairty': 0.0,\n",
       "  'tbObjectivity': 0.0,\n",
       "  'vsScore': 0.4847},\n",
       " {'perspectiveScore': 0.136,\n",
       "  'tbPolairty': -1.0,\n",
       "  'tbObjectivity': 1.0,\n",
       "  'vsScore': -0.6597},\n",
       " {'perspectiveScore': 0.014,\n",
       "  'tbPolairty': 0.0,\n",
       "  'tbObjectivity': 0.0,\n",
       "  'vsScore': 0.0},\n",
       " {'perspectiveScore': 0.053,\n",
       "  'tbPolairty': 0.0,\n",
       "  'tbObjectivity': 0.0,\n",
       "  'vsScore': 0.0},\n",
       " {'perspectiveScore': 0.046,\n",
       "  'tbPolairty': 0.0,\n",
       "  'tbObjectivity': 0.0,\n",
       "  'vsScore': 0.0}]"
      ]
     },
     "execution_count": 6,
     "metadata": {},
     "output_type": "execute_result"
    }
   ],
   "source": [
    "# Querying using the all methods API\n",
    "results = []\n",
    "for sentence in sentences:\n",
    "    results.append(mc.queryAllModelsSingle(sentence))\n",
    "    \n",
    "results"
   ]
  },
  {
   "cell_type": "code",
   "execution_count": 7,
   "id": "530e76b7",
   "metadata": {},
   "outputs": [
    {
     "data": {
      "text/plain": [
       "[{'perspectiveScore': 0.041,\n",
       "  'tbPolairty': 0.0,\n",
       "  'tbObjectivity': 0.0,\n",
       "  'vsScore': 0.4019},\n",
       " {'perspectiveScore': 0.05,\n",
       "  'tbPolairty': 0.5,\n",
       "  'tbObjectivity': 0.6,\n",
       "  'vsScore': 0.0577},\n",
       " {'perspectiveScore': 0.038,\n",
       "  'tbPolairty': 0.0,\n",
       "  'tbObjectivity': 0.0,\n",
       "  'vsScore': 0.4847},\n",
       " {'perspectiveScore': 0.136,\n",
       "  'tbPolairty': -1.0,\n",
       "  'tbObjectivity': 1.0,\n",
       "  'vsScore': -0.6597},\n",
       " {'perspectiveScore': 0.014,\n",
       "  'tbPolairty': 0.0,\n",
       "  'tbObjectivity': 0.0,\n",
       "  'vsScore': 0.0},\n",
       " {'perspectiveScore': 0.053,\n",
       "  'tbPolairty': 0.0,\n",
       "  'tbObjectivity': 0.0,\n",
       "  'vsScore': 0.0},\n",
       " {'perspectiveScore': 0.046,\n",
       "  'tbPolairty': 0.0,\n",
       "  'tbObjectivity': 0.0,\n",
       "  'vsScore': 0.0}]"
      ]
     },
     "execution_count": 7,
     "metadata": {},
     "output_type": "execute_result"
    }
   ],
   "source": [
    "# Query using the bulk API\n",
    "results = mc.queryAllModelsBulk(sentences)\n",
    "results"
   ]
  }
 ],
 "metadata": {
  "kernelspec": {
   "display_name": "Python 3 (ipykernel)",
   "language": "python",
   "name": "python3"
  },
  "language_info": {
   "codemirror_mode": {
    "name": "ipython",
    "version": 3
   },
   "file_extension": ".py",
   "mimetype": "text/x-python",
   "name": "python",
   "nbconvert_exporter": "python",
   "pygments_lexer": "ipython3",
   "version": "3.10.9"
  }
 },
 "nbformat": 4,
 "nbformat_minor": 5
}
