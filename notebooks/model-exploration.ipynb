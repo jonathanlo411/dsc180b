{
 "cells": [
  {
   "cell_type": "markdown",
   "id": "d1b13aae",
   "metadata": {},
   "source": [
    "# Model Exploration\n",
    "Purpose is to understand models `textblob`, `vaderSentiment`, and Google's `Perspective API`.<br>\n",
    "By: Jonathan Lo<br>\n",
    "Date: 1/16/23"
   ]
  },
  {
   "cell_type": "code",
   "execution_count": 1,
   "id": "0e31d54c",
   "metadata": {},
   "outputs": [],
   "source": [
    "# Model Imports\n",
    "from modelCollection import ModelCollection\n",
    "\n",
    "# Overhead Imports\n",
    "from json import load\n",
    "from time import sleep"
   ]
  },
  {
   "cell_type": "code",
   "execution_count": 2,
   "id": "10951cfd",
   "metadata": {},
   "outputs": [],
   "source": [
    "# Loading secrets\n",
    "SECRETS = load(open('../secrets.json', 'r'))"
   ]
  },
  {
   "cell_type": "markdown",
   "id": "a1b5fc13",
   "metadata": {},
   "source": [
    "## Sample Testing"
   ]
  },
  {
   "cell_type": "markdown",
   "id": "7b21976a",
   "metadata": {},
   "source": [
    "When querying multiple samples, it is recommended that you use the last method. Otherwise, you will need to manually handle the rate lmiting."
   ]
  },
  {
   "cell_type": "code",
   "execution_count": 3,
   "id": "5713ca71",
   "metadata": {},
   "outputs": [],
   "source": [
    "# Initialize Model Collection and testing sentances\n",
    "mc = ModelCollection(\n",
    "    gcp_api_key=SECRETS['PerspectiveAPIKey'],\n",
    "    rate_limit_timeout=1 # 1 is default\n",
    ")\n",
    "sentences = [\n",
    "    'You must be the change you wish to see in the world.',\n",
    "    'Spread love everywhere you go. Let no one ever come to you without leaving happier.',\n",
    "    'There is No War in Ba Sing Se.',\n",
    "    'Money is the root of all evil.',\n",
    "    'He bought the watch from the mall next to the Walmart.',\n",
    "    'She brought her car into the car wash made for washing to wash her car.',\n",
    "    'She sells sea shells by the sea shore.'\n",
    "]"
   ]
  },
  {
   "cell_type": "code",
   "execution_count": 4,
   "id": "1ce2f89c",
   "metadata": {},
   "outputs": [
    {
     "data": {
      "text/plain": [
       "[{'perspectiveScore': 0.041,\n",
       "  'tbPolairty': 0.0,\n",
       "  'tbObjectivity': 0.0,\n",
       "  'vsScore': 0.4019},\n",
       " {'perspectiveScore': 0.05,\n",
       "  'tbPolairty': 0.5,\n",
       "  'tbObjectivity': 0.6,\n",
       "  'vsScore': 0.0577},\n",
       " {'perspectiveScore': 0.038,\n",
       "  'tbPolairty': 0.0,\n",
       "  'tbObjectivity': 0.0,\n",
       "  'vsScore': 0.4847},\n",
       " {'perspectiveScore': 0.136,\n",
       "  'tbPolairty': -1.0,\n",
       "  'tbObjectivity': 1.0,\n",
       "  'vsScore': -0.6597},\n",
       " {'perspectiveScore': 0.014,\n",
       "  'tbPolairty': 0.0,\n",
       "  'tbObjectivity': 0.0,\n",
       "  'vsScore': 0.0},\n",
       " {'perspectiveScore': 0.053,\n",
       "  'tbPolairty': 0.0,\n",
       "  'tbObjectivity': 0.0,\n",
       "  'vsScore': 0.0},\n",
       " {'perspectiveScore': 0.046,\n",
       "  'tbPolairty': 0.0,\n",
       "  'tbObjectivity': 0.0,\n",
       "  'vsScore': 0.0}]"
      ]
     },
     "execution_count": 4,
     "metadata": {},
     "output_type": "execute_result"
    }
   ],
   "source": [
    "# Querying using individual methods\n",
    "results = []\n",
    "for sentence in sentences:\n",
    "    sleep(1)\n",
    "    result = {\n",
    "        'perspectiveScore': mc.queryPerspective(sentence),\n",
    "        'tbPolairty': mc.queryTextBlobPolairty(sentence),\n",
    "        'tbObjectivity': mc.queryTextBlobObjectivity(sentence),\n",
    "        'vsScore': mc.queryVaderSentiment(sentence)\n",
    "    }\n",
    "    results.append(result)\n",
    "    \n",
    "results"
   ]
  },
  {
   "cell_type": "code",
   "execution_count": 5,
   "id": "471d9871",
   "metadata": {},
   "outputs": [
    {
     "data": {
      "text/plain": [
       "[{'perspectiveScore': 0.041,\n",
       "  'tbPolairty': 0.0,\n",
       "  'tbObjectivity': 0.0,\n",
       "  'vsScore': 0.4019},\n",
       " {'perspectiveScore': 0.05,\n",
       "  'tbPolairty': 0.5,\n",
       "  'tbObjectivity': 0.6,\n",
       "  'vsScore': 0.0577},\n",
       " {'perspectiveScore': 0.038,\n",
       "  'tbPolairty': 0.0,\n",
       "  'tbObjectivity': 0.0,\n",
       "  'vsScore': 0.4847},\n",
       " {'perspectiveScore': 0.136,\n",
       "  'tbPolairty': -1.0,\n",
       "  'tbObjectivity': 1.0,\n",
       "  'vsScore': -0.6597},\n",
       " {'perspectiveScore': 0.014,\n",
       "  'tbPolairty': 0.0,\n",
       "  'tbObjectivity': 0.0,\n",
       "  'vsScore': 0.0},\n",
       " {'perspectiveScore': 0.053,\n",
       "  'tbPolairty': 0.0,\n",
       "  'tbObjectivity': 0.0,\n",
       "  'vsScore': 0.0},\n",
       " {'perspectiveScore': 0.046,\n",
       "  'tbPolairty': 0.0,\n",
       "  'tbObjectivity': 0.0,\n",
       "  'vsScore': 0.0}]"
      ]
     },
     "execution_count": 5,
     "metadata": {},
     "output_type": "execute_result"
    }
   ],
   "source": [
    "# Querying using the all methods API\n",
    "results = []\n",
    "for sentence in sentences:\n",
    "    sleep(1)\n",
    "    results.append(mc.queryAllModelsSingle(sentence))\n",
    "    \n",
    "results"
   ]
  },
  {
   "cell_type": "code",
   "execution_count": 6,
   "id": "530e76b7",
   "metadata": {},
   "outputs": [
    {
     "data": {
      "text/plain": [
       "[{'perspectiveScore': 0.041,\n",
       "  'tbPolairty': 0.0,\n",
       "  'tbObjectivity': 0.0,\n",
       "  'vsScore': 0.4019},\n",
       " {'perspectiveScore': 0.05,\n",
       "  'tbPolairty': 0.5,\n",
       "  'tbObjectivity': 0.6,\n",
       "  'vsScore': 0.0577},\n",
       " {'perspectiveScore': 0.038,\n",
       "  'tbPolairty': 0.0,\n",
       "  'tbObjectivity': 0.0,\n",
       "  'vsScore': 0.4847},\n",
       " {'perspectiveScore': 0.136,\n",
       "  'tbPolairty': -1.0,\n",
       "  'tbObjectivity': 1.0,\n",
       "  'vsScore': -0.6597},\n",
       " {'perspectiveScore': 0.014,\n",
       "  'tbPolairty': 0.0,\n",
       "  'tbObjectivity': 0.0,\n",
       "  'vsScore': 0.0},\n",
       " {'perspectiveScore': 0.053,\n",
       "  'tbPolairty': 0.0,\n",
       "  'tbObjectivity': 0.0,\n",
       "  'vsScore': 0.0},\n",
       " {'perspectiveScore': 0.046,\n",
       "  'tbPolairty': 0.0,\n",
       "  'tbObjectivity': 0.0,\n",
       "  'vsScore': 0.0}]"
      ]
     },
     "execution_count": 6,
     "metadata": {},
     "output_type": "execute_result"
    }
   ],
   "source": [
    "# Query using the bulk API\n",
    "results = mc.queryAllModelsBulk(sentences)\n",
    "results"
   ]
  }
 ],
 "metadata": {
  "kernelspec": {
   "display_name": "Python 3 (ipykernel)",
   "language": "python",
   "name": "python3"
  },
  "language_info": {
   "codemirror_mode": {
    "name": "ipython",
    "version": 3
   },
   "file_extension": ".py",
   "mimetype": "text/x-python",
   "name": "python",
   "nbconvert_exporter": "python",
   "pygments_lexer": "ipython3",
   "version": "3.10.9"
  }
 },
 "nbformat": 4,
 "nbformat_minor": 5
}
