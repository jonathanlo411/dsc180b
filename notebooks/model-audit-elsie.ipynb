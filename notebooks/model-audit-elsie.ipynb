{
 "cells": [
  {
   "cell_type": "markdown",
   "id": "d1b13aae",
   "metadata": {},
   "source": [
    "# Model Exploration\n",
    "Purpose is to understand models `textblob`, `vaderSentiment`, and Google's `Perspective API`.<br>\n",
    "By: Elsie Wang<br>\n",
    "Date: 2/7/24"
   ]
  },
  {
   "cell_type": "code",
   "execution_count": 1,
   "id": "0e31d54c",
   "metadata": {},
   "outputs": [],
   "source": [
    "# Model Imports\n",
    "from modelCollection import ModelCollection\n",
    "\n",
    "# Overhead Imports\n",
    "from json import load\n",
    "from tqdm.notebook import tqdm\n",
    "from time import sleep\n",
    "from collections import defaultdict\n",
    "tqdm.pandas()\n",
    "\n",
    "# Data cleaning\n",
    "import pandas as pd\n",
    "import spacy\n",
    "import numpy as np\n",
    "import matplotlib.pyplot as plt\n",
    "\n",
    "# Statistical analysis\n",
    "from scipy.stats import f_oneway\n",
    "from statsmodels.formula.api import ols\n",
    "from statsmodels.stats.anova import anova_lm\n",
    "\n",
    "import seaborn as sns\n",
    "import matplotlib.pyplot as plt"
   ]
  },
  {
   "cell_type": "code",
   "execution_count": 2,
   "id": "10951cfd",
   "metadata": {},
   "outputs": [],
   "source": [
    "# Loading secrets\n",
    "SECRETS = load(open('../sample.secrets.json', 'r'))"
   ]
  },
  {
   "cell_type": "markdown",
   "id": "1057f37e",
   "metadata": {},
   "source": [
    "## Data Cleaning"
   ]
  },
  {
   "cell_type": "code",
   "execution_count": 3,
   "id": "87b3bcd2",
   "metadata": {},
   "outputs": [
    {
     "data": {
      "text/html": [
       "<div>\n",
       "<style scoped>\n",
       "    .dataframe tbody tr th:only-of-type {\n",
       "        vertical-align: middle;\n",
       "    }\n",
       "\n",
       "    .dataframe tbody tr th {\n",
       "        vertical-align: top;\n",
       "    }\n",
       "\n",
       "    .dataframe thead th {\n",
       "        text-align: right;\n",
       "    }\n",
       "</style>\n",
       "<table border=\"1\" class=\"dataframe\">\n",
       "  <thead>\n",
       "    <tr style=\"text-align: right;\">\n",
       "      <th></th>\n",
       "      <th>Sentiment</th>\n",
       "      <th>Sentences</th>\n",
       "    </tr>\n",
       "  </thead>\n",
       "  <tbody>\n",
       "    <tr>\n",
       "      <th>0</th>\n",
       "      <td>-1</td>\n",
       "      <td>The black man faced systemic challenges, evoki...</td>\n",
       "    </tr>\n",
       "    <tr>\n",
       "      <th>1</th>\n",
       "      <td>0</td>\n",
       "      <td>A white woman experienced a neutral day, neith...</td>\n",
       "    </tr>\n",
       "    <tr>\n",
       "      <th>2</th>\n",
       "      <td>-1</td>\n",
       "      <td>Despite being a successful Asian entrepreneur,...</td>\n",
       "    </tr>\n",
       "    <tr>\n",
       "      <th>3</th>\n",
       "      <td>1</td>\n",
       "      <td>The black woman celebrated a small victory at ...</td>\n",
       "    </tr>\n",
       "    <tr>\n",
       "      <th>4</th>\n",
       "      <td>-1</td>\n",
       "      <td>The white man, burdened by financial stress, g...</td>\n",
       "    </tr>\n",
       "  </tbody>\n",
       "</table>\n",
       "</div>"
      ],
      "text/plain": [
       "   Sentiment                                          Sentences\n",
       "0         -1  The black man faced systemic challenges, evoki...\n",
       "1          0  A white woman experienced a neutral day, neith...\n",
       "2         -1  Despite being a successful Asian entrepreneur,...\n",
       "3          1  The black woman celebrated a small victory at ...\n",
       "4         -1  The white man, burdened by financial stress, g..."
      ]
     },
     "execution_count": 3,
     "metadata": {},
     "output_type": "execute_result"
    }
   ],
   "source": [
    "# Import dataset\n",
    "sentences = pd.read_csv(\"../data/sentiment_sentences.csv\")\n",
    "sentences.head()"
   ]
  },
  {
   "cell_type": "code",
   "execution_count": 4,
   "id": "5411d6a3",
   "metadata": {},
   "outputs": [],
   "source": [
    "race_gender_identities = ['Asian woman', \n",
    "                     'Asian man', \n",
    "                     'black woman', \n",
    "                     'black man', \n",
    "                     'white woman', \n",
    "                     'white man'\n",
    "                         ]\n",
    "female_terms = {\n",
    "    \"{subject}\": \"she\",\n",
    "    \"{possessive_adjective}\": \"her\",\n",
    "    \"{object}\": \"her\",\n",
    "    \"{possessive_pronoun}\": \"hers\",\n",
    "    \"{reflexive}\": \"herself\"\n",
    "}\n",
    "male_terms = {\n",
    "    \"{subject}\": \"he\",\n",
    "    \"{possessive_adjective}\": \"his\",\n",
    "    \"{object}\": \"him\",\n",
    "    \"{possessive_pronoun}\": \"his\",\n",
    "    \"{reflexive}\": \"himself\"\n",
    "}\n",
    "gender_terms = [\"she\", \"her\", \"hers\", \"herself\", \"he\", \"his\", \"him\", \"his\", \"himself\"]\n",
    "replacements = {**{v: k for k, v in female_terms.items()}, **{v: k for k, v in male_terms.items()}}"
   ]
  },
  {
   "cell_type": "code",
   "execution_count": 5,
   "id": "6f7b5d89",
   "metadata": {},
   "outputs": [
    {
     "name": "stdout",
     "output_type": "stream",
     "text": [
      "Original:\n",
      " A white woman experienced a neutral day, neither exceptionally positive nor negative, as she navigated the routine tasks of her daily life.\n",
      "Modified:\n",
      " A [] experienced a neutral day, neither exceptionally positive nor negative, as she navigated the routine tasks of her daily life.\n"
     ]
    }
   ],
   "source": [
    "def replace_race_gender(sentence):\n",
    "    \"\"\" Returns template sentence to replace race/gender pair with brackets\n",
    "    \"\"\"\n",
    "    \n",
    "    for identity in race_gender_identities:\n",
    "        sentence = sentence.replace(identity, '[]')\n",
    "        \n",
    "    return sentence\n",
    "\n",
    "# Example usage of replace_race_gender()\n",
    "original_sentence = sentences['Sentences'].loc[1]\n",
    "modified = replace_race_gender(original_sentence)\n",
    "\n",
    "print('Original:\\n', original_sentence)\n",
    "print('Modified:\\n', modified)"
   ]
  },
  {
   "cell_type": "code",
   "execution_count": 6,
   "id": "21eb4408",
   "metadata": {},
   "outputs": [
    {
     "name": "stdout",
     "output_type": "stream",
     "text": [
      "Original:\n",
      " A white woman experienced a neutral day, neither exceptionally positive nor negative, as she navigated the routine tasks of her daily life.\n",
      "Modified:\n",
      " ('A white woman experienced a neutral day, neither exceptionally positive nor negative, as {subject} navigated the routine tasks of {possessive_adjective} daily life.', 2)\n"
     ]
    }
   ],
   "source": [
    "def replace_gender(sentence):\n",
    "    \"\"\" Returns template sentence to replace gender terms with curly braces and pronoun type and number of pronouns\n",
    "    \"\"\"\n",
    "    nlp = spacy.load(\"en_core_web_sm\")\n",
    "    doc = nlp(sentence)\n",
    "    \n",
    "    pronoun_indices = [i for i in range(len(doc)) if doc[i].pos_ == \"PRON\"]\n",
    "    text = [token.text for token in doc]\n",
    "    \n",
    "    # Replace gender pronouns with {pronoun_type}\n",
    "    for index in pronoun_indices:\n",
    "        token = doc[index]\n",
    "        if token.text == \"her\" or token.text==\"his\":\n",
    "            value = analyze_pronoun_usage(sentence, doc, index)\n",
    "        else:\n",
    "            try:\n",
    "                value = replacements[token.text]\n",
    "            except:\n",
    "                continue\n",
    "        text[index] = value\n",
    "    \n",
    "    return ''.join([word if ((word in [\",\", \"-\", \"!\", \".\"]) or (nlp(word)[0].pos_ == \"PART\"))  else \" \" + word for word in text]).lstrip(), len(pronoun_indices)\n",
    "\n",
    "def analyze_pronoun_usage(sentence, doc, index):\n",
    "    \"\"\" Returns whether \"her\" is a possessive or object pronoun or if \"his\" is possesive adj/possessive pronoun\n",
    "    \"\"\"\n",
    "    token = doc[index]\n",
    "        \n",
    "    if token.text.lower() == \"her\":\n",
    "        if token.dep_ == 'poss':\n",
    "            return \"{possessive_adjective}\"\n",
    "        else:\n",
    "            return \"{object}\"\n",
    "                \n",
    "    else:\n",
    "        if (index < len(doc) - 1) and (doc[index+1].pos_ == 'PART' or doc[index+1].pos_ == 'ADJ'):\n",
    "            return \"{possessive_adjective}\"\n",
    "        else:\n",
    "            return \"{possessive_pronoun}\"\n",
    "        \n",
    "# Example usage of replace_gender()\n",
    "original_sentence = sentences['Sentences'].loc[1]\n",
    "modified = replace_gender(original_sentence)\n",
    "\n",
    "print('Original:\\n', original_sentence)\n",
    "print('Modified:\\n', modified)"
   ]
  },
  {
   "cell_type": "code",
   "execution_count": 7,
   "id": "5a28104a",
   "metadata": {
    "scrolled": true
   },
   "outputs": [
    {
     "data": {
      "application/vnd.jupyter.widget-view+json": {
       "model_id": "880362ebb8664322874f74ec110a53dd",
       "version_major": 2,
       "version_minor": 0
      },
      "text/plain": [
       "  0%|          | 0/152 [00:00<?, ?it/s]"
      ]
     },
     "metadata": {},
     "output_type": "display_data"
    },
    {
     "data": {
      "application/vnd.jupyter.widget-view+json": {
       "model_id": "bc0be0695e2b488cb15c3bb597dccb12",
       "version_major": 2,
       "version_minor": 0
      },
      "text/plain": [
       "  0%|          | 0/152 [00:00<?, ?it/s]"
      ]
     },
     "metadata": {},
     "output_type": "display_data"
    }
   ],
   "source": [
    "# Clean data: change to template sentences excluding race and gender\n",
    "sentences[[\"Sentences\", \"Num Pronouns\"]] = sentences[\"Sentences\"].progress_apply(lambda x: pd.Series(replace_gender(x)))\n",
    "sentences[\"Sentences\"] = sentences[\"Sentences\"].progress_apply(replace_race_gender)"
   ]
  },
  {
   "cell_type": "code",
   "execution_count": 8,
   "id": "9ff2c214",
   "metadata": {},
   "outputs": [
    {
     "data": {
      "text/html": [
       "<div>\n",
       "<style scoped>\n",
       "    .dataframe tbody tr th:only-of-type {\n",
       "        vertical-align: middle;\n",
       "    }\n",
       "\n",
       "    .dataframe tbody tr th {\n",
       "        vertical-align: top;\n",
       "    }\n",
       "\n",
       "    .dataframe thead th {\n",
       "        text-align: right;\n",
       "    }\n",
       "</style>\n",
       "<table border=\"1\" class=\"dataframe\">\n",
       "  <thead>\n",
       "    <tr style=\"text-align: right;\">\n",
       "      <th></th>\n",
       "      <th>Sentiment</th>\n",
       "      <th>Sentences</th>\n",
       "      <th>Num Pronouns</th>\n",
       "    </tr>\n",
       "  </thead>\n",
       "  <tbody>\n",
       "    <tr>\n",
       "      <th>0</th>\n",
       "      <td>-1</td>\n",
       "      <td>The [] faced systemic challenges, evoking a se...</td>\n",
       "      <td>0</td>\n",
       "    </tr>\n",
       "    <tr>\n",
       "      <th>1</th>\n",
       "      <td>0</td>\n",
       "      <td>A [] experienced a neutral day, neither except...</td>\n",
       "      <td>2</td>\n",
       "    </tr>\n",
       "    <tr>\n",
       "      <th>2</th>\n",
       "      <td>-1</td>\n",
       "      <td>Despite being a successful Asian entrepreneur,...</td>\n",
       "      <td>0</td>\n",
       "    </tr>\n",
       "    <tr>\n",
       "      <th>3</th>\n",
       "      <td>1</td>\n",
       "      <td>The [] celebrated a small victory at work, fee...</td>\n",
       "      <td>1</td>\n",
       "    </tr>\n",
       "    <tr>\n",
       "      <th>4</th>\n",
       "      <td>-1</td>\n",
       "      <td>The [], burdened by financial stress, grappled...</td>\n",
       "      <td>1</td>\n",
       "    </tr>\n",
       "  </tbody>\n",
       "</table>\n",
       "</div>"
      ],
      "text/plain": [
       "   Sentiment                                          Sentences  Num Pronouns\n",
       "0         -1  The [] faced systemic challenges, evoking a se...             0\n",
       "1          0  A [] experienced a neutral day, neither except...             2\n",
       "2         -1  Despite being a successful Asian entrepreneur,...             0\n",
       "3          1  The [] celebrated a small victory at work, fee...             1\n",
       "4         -1  The [], burdened by financial stress, grappled...             1"
      ]
     },
     "execution_count": 8,
     "metadata": {},
     "output_type": "execute_result"
    }
   ],
   "source": [
    "sentences.head()"
   ]
  },
  {
   "cell_type": "code",
   "execution_count": 9,
   "id": "70299d04",
   "metadata": {},
   "outputs": [
    {
     "data": {
      "text/plain": [
       "Text(0.5, 1.0, 'Sentence Pronoun Distribution')"
      ]
     },
     "execution_count": 9,
     "metadata": {},
     "output_type": "execute_result"
    },
    {
     "data": {
      "image/png": "[encoded data removed]",
      "text/plain": [
       "<Figure size 640x480 with 1 Axes>"
      ]
     },
     "metadata": {},
     "output_type": "display_data"
    }
   ],
   "source": [
    "# Plot Num Pronoun Distribution\n",
    "plt.hist(sentences['Num Pronouns'], range=(0,6), bins=6)\n",
    "\n",
    "plt.xlabel('Number of Pronouns')\n",
    "plt.ylabel('Frequency')\n",
    "plt.title(\"Sentence Pronoun Distribution\")"
   ]
  },
  {
   "cell_type": "code",
   "execution_count": 10,
   "id": "6c1575a5",
   "metadata": {},
   "outputs": [
    {
     "data": {
      "text/plain": [
       " 1    63\n",
       " 0    47\n",
       "-1    42\n",
       "Name: Sentiment, dtype: int64"
      ]
     },
     "execution_count": 10,
     "metadata": {},
     "output_type": "execute_result"
    }
   ],
   "source": [
    "# Group by sentiment label\n",
    "sentences['Sentiment'].value_counts()"
   ]
  },
  {
   "cell_type": "markdown",
   "id": "a1b5fc13",
   "metadata": {},
   "source": [
    "## Sample Data Testing"
   ]
  },
  {
   "cell_type": "code",
   "execution_count": 11,
   "id": "ec073d90",
   "metadata": {},
   "outputs": [
    {
     "name": "stdout",
     "output_type": "stream",
     "text": [
      "Original:\n",
      " The [], surrounded by supportive allies, felt a positive sense of unity and solidarity, contributingto {possessive_adjective} overall well- being.\n",
      "Modified:\n",
      " The Asian woman, surrounded by supportive allies, felt a positive sense of unity and solidarity, contributingto her overall well- being.\n"
     ]
    }
   ],
   "source": [
    "def fill_race_gender(sentence, identity):\n",
    "    \"\"\" Returns a sentence with the given gender/race identity and the corresponding pronouns\n",
    "    \"\"\"\n",
    "    sentence = sentence.replace(\"[]\", identity)\n",
    "    if \"woman\" in identity:\n",
    "        sentence = ' '.join(female_terms.get(word, word) for word in sentence.split())\n",
    "    else:\n",
    "        sentence = ' '.join(male_terms.get(word, word) for word in sentence.split())\n",
    "\n",
    "    return sentence\n",
    "\n",
    "# Example usage of fill_race_gender()\n",
    "original_sentence = sentences['Sentences'].loc[30]\n",
    "identity = \"Asian woman\"\n",
    "modified = fill_race_gender(original_sentence, identity)\n",
    "\n",
    "print('Original:\\n', original_sentence)\n",
    "print('Modified:\\n', modified)"
   ]
  },
  {
   "cell_type": "markdown",
   "id": "89050d88",
   "metadata": {},
   "source": [
    "## Audit Testing"
   ]
  },
  {
   "cell_type": "code",
   "execution_count": 12,
   "id": "8508ac37",
   "metadata": {},
   "outputs": [
    {
     "data": {
      "text/html": [
       "<div>\n",
       "<style scoped>\n",
       "    .dataframe tbody tr th:only-of-type {\n",
       "        vertical-align: middle;\n",
       "    }\n",
       "\n",
       "    .dataframe tbody tr th {\n",
       "        vertical-align: top;\n",
       "    }\n",
       "\n",
       "    .dataframe thead th {\n",
       "        text-align: right;\n",
       "    }\n",
       "</style>\n",
       "<table border=\"1\" class=\"dataframe\">\n",
       "  <thead>\n",
       "    <tr style=\"text-align: right;\">\n",
       "      <th></th>\n",
       "      <th>Sentiment</th>\n",
       "      <th>Sentence</th>\n",
       "      <th>Num Pronouns</th>\n",
       "      <th>Gender</th>\n",
       "      <th>Race</th>\n",
       "    </tr>\n",
       "  </thead>\n",
       "  <tbody>\n",
       "    <tr>\n",
       "      <th>0</th>\n",
       "      <td>-1</td>\n",
       "      <td>The asian man faced systemic challenges, evoki...</td>\n",
       "      <td>0</td>\n",
       "      <td>man</td>\n",
       "      <td>asian</td>\n",
       "    </tr>\n",
       "    <tr>\n",
       "      <th>1</th>\n",
       "      <td>-1</td>\n",
       "      <td>The asian woman faced systemic challenges, evo...</td>\n",
       "      <td>0</td>\n",
       "      <td>woman</td>\n",
       "      <td>asian</td>\n",
       "    </tr>\n",
       "    <tr>\n",
       "      <th>2</th>\n",
       "      <td>-1</td>\n",
       "      <td>The black man faced systemic challenges, evoki...</td>\n",
       "      <td>0</td>\n",
       "      <td>man</td>\n",
       "      <td>black</td>\n",
       "    </tr>\n",
       "    <tr>\n",
       "      <th>3</th>\n",
       "      <td>-1</td>\n",
       "      <td>The black woman faced systemic challenges, evo...</td>\n",
       "      <td>0</td>\n",
       "      <td>woman</td>\n",
       "      <td>black</td>\n",
       "    </tr>\n",
       "    <tr>\n",
       "      <th>4</th>\n",
       "      <td>-1</td>\n",
       "      <td>The white man faced systemic challenges, evoki...</td>\n",
       "      <td>0</td>\n",
       "      <td>man</td>\n",
       "      <td>white</td>\n",
       "    </tr>\n",
       "    <tr>\n",
       "      <th>...</th>\n",
       "      <td>...</td>\n",
       "      <td>...</td>\n",
       "      <td>...</td>\n",
       "      <td>...</td>\n",
       "      <td>...</td>\n",
       "    </tr>\n",
       "    <tr>\n",
       "      <th>907</th>\n",
       "      <td>-1</td>\n",
       "      <td>I got into a heated argument with a asian woma...</td>\n",
       "      <td>4</td>\n",
       "      <td>woman</td>\n",
       "      <td>asian</td>\n",
       "    </tr>\n",
       "    <tr>\n",
       "      <th>908</th>\n",
       "      <td>-1</td>\n",
       "      <td>I got into a heated argument with a black man ...</td>\n",
       "      <td>4</td>\n",
       "      <td>man</td>\n",
       "      <td>black</td>\n",
       "    </tr>\n",
       "    <tr>\n",
       "      <th>909</th>\n",
       "      <td>-1</td>\n",
       "      <td>I got into a heated argument with a black woma...</td>\n",
       "      <td>4</td>\n",
       "      <td>woman</td>\n",
       "      <td>black</td>\n",
       "    </tr>\n",
       "    <tr>\n",
       "      <th>910</th>\n",
       "      <td>-1</td>\n",
       "      <td>I got into a heated argument with a white man ...</td>\n",
       "      <td>4</td>\n",
       "      <td>man</td>\n",
       "      <td>white</td>\n",
       "    </tr>\n",
       "    <tr>\n",
       "      <th>911</th>\n",
       "      <td>-1</td>\n",
       "      <td>I got into a heated argument with a white woma...</td>\n",
       "      <td>4</td>\n",
       "      <td>woman</td>\n",
       "      <td>white</td>\n",
       "    </tr>\n",
       "  </tbody>\n",
       "</table>\n",
       "<p>912 rows × 5 columns</p>\n",
       "</div>"
      ],
      "text/plain": [
       "     Sentiment                                           Sentence  \\\n",
       "0           -1  The asian man faced systemic challenges, evoki...   \n",
       "1           -1  The asian woman faced systemic challenges, evo...   \n",
       "2           -1  The black man faced systemic challenges, evoki...   \n",
       "3           -1  The black woman faced systemic challenges, evo...   \n",
       "4           -1  The white man faced systemic challenges, evoki...   \n",
       "..         ...                                                ...   \n",
       "907         -1  I got into a heated argument with a asian woma...   \n",
       "908         -1  I got into a heated argument with a black man ...   \n",
       "909         -1  I got into a heated argument with a black woma...   \n",
       "910         -1  I got into a heated argument with a white man ...   \n",
       "911         -1  I got into a heated argument with a white woma...   \n",
       "\n",
       "     Num Pronouns Gender   Race  \n",
       "0               0    man  asian  \n",
       "1               0  woman  asian  \n",
       "2               0    man  black  \n",
       "3               0  woman  black  \n",
       "4               0    man  white  \n",
       "..            ...    ...    ...  \n",
       "907             4  woman  asian  \n",
       "908             4    man  black  \n",
       "909             4  woman  black  \n",
       "910             4    man  white  \n",
       "911             4  woman  white  \n",
       "\n",
       "[912 rows x 5 columns]"
      ]
     },
     "execution_count": 12,
     "metadata": {},
     "output_type": "execute_result"
    }
   ],
   "source": [
    "# Initialize sentences for auditing\n",
    "races = ['asian', 'black', 'white']\n",
    "genders = ['man', 'woman']\n",
    "sentences_dict = defaultdict(list)\n",
    "for _, row in sentences.iterrows():\n",
    "    for race in races:\n",
    "        for gender in genders:\n",
    "            sentences_dict['Sentiment'].append(row['Sentiment'])\n",
    "            sentences_dict['Sentence'].append(fill_race_gender(row['Sentences'], f\"{race} {gender}\"))\n",
    "            sentences_dict['Num Pronouns'].append(row['Num Pronouns'])\n",
    "            sentences_dict['Gender'].append(gender)\n",
    "            sentences_dict['Race'].append(race)\n",
    "            \n",
    "audit_df = pd.DataFrame(sentences_dict)\n",
    "audit_df"
   ]
  },
  {
   "cell_type": "code",
   "execution_count": null,
   "id": "5713ca71",
   "metadata": {},
   "outputs": [],
   "source": [
    "# Initialize Model Collection and testing sentances\n",
    "mc = ModelCollection(gcp_api_key=SECRETS['PerspectiveAPIKey'])"
   ]
  },
  {
   "cell_type": "code",
   "execution_count": 27,
   "id": "471d9871",
   "metadata": {
    "scrolled": false
   },
   "outputs": [
    {
     "data": {
      "application/vnd.jupyter.widget-view+json": {
       "model_id": "d4b04cf779314d6c90d67b7ae9477356",
       "version_major": 2,
       "version_minor": 0
      },
      "text/plain": [
       "  0%|          | 0/912 [00:00<?, ?it/s]"
      ]
     },
     "metadata": {},
     "output_type": "display_data"
    },
    {
     "data": {
      "text/html": [
       "<div>\n",
       "<style scoped>\n",
       "    .dataframe tbody tr th:only-of-type {\n",
       "        vertical-align: middle;\n",
       "    }\n",
       "\n",
       "    .dataframe tbody tr th {\n",
       "        vertical-align: top;\n",
       "    }\n",
       "\n",
       "    .dataframe thead th {\n",
       "        text-align: right;\n",
       "    }\n",
       "</style>\n",
       "<table border=\"1\" class=\"dataframe\">\n",
       "  <thead>\n",
       "    <tr style=\"text-align: right;\">\n",
       "      <th></th>\n",
       "      <th>Sentiment</th>\n",
       "      <th>Sentence</th>\n",
       "      <th>Num Pronouns</th>\n",
       "      <th>Gender</th>\n",
       "      <th>Race</th>\n",
       "      <th>perspectiveScore</th>\n",
       "      <th>tbPolairty</th>\n",
       "      <th>tbObjectivity</th>\n",
       "      <th>vsScore</th>\n",
       "    </tr>\n",
       "  </thead>\n",
       "  <tbody>\n",
       "    <tr>\n",
       "      <th>0</th>\n",
       "      <td>-1</td>\n",
       "      <td>The asian man faced systemic challenges, evoki...</td>\n",
       "      <td>0</td>\n",
       "      <td>man</td>\n",
       "      <td>asian</td>\n",
       "      <td>0.038</td>\n",
       "      <td>-0.350000</td>\n",
       "      <td>0.100000</td>\n",
       "      <td>-0.7579</td>\n",
       "    </tr>\n",
       "    <tr>\n",
       "      <th>1</th>\n",
       "      <td>-1</td>\n",
       "      <td>The asian woman faced systemic challenges, evo...</td>\n",
       "      <td>0</td>\n",
       "      <td>woman</td>\n",
       "      <td>asian</td>\n",
       "      <td>0.028</td>\n",
       "      <td>-0.350000</td>\n",
       "      <td>0.100000</td>\n",
       "      <td>-0.7579</td>\n",
       "    </tr>\n",
       "    <tr>\n",
       "      <th>2</th>\n",
       "      <td>-1</td>\n",
       "      <td>The black man faced systemic challenges, evoki...</td>\n",
       "      <td>0</td>\n",
       "      <td>man</td>\n",
       "      <td>black</td>\n",
       "      <td>0.102</td>\n",
       "      <td>-0.433333</td>\n",
       "      <td>0.316667</td>\n",
       "      <td>-0.7579</td>\n",
       "    </tr>\n",
       "    <tr>\n",
       "      <th>3</th>\n",
       "      <td>-1</td>\n",
       "      <td>The black woman faced systemic challenges, evo...</td>\n",
       "      <td>0</td>\n",
       "      <td>woman</td>\n",
       "      <td>black</td>\n",
       "      <td>0.086</td>\n",
       "      <td>-0.433333</td>\n",
       "      <td>0.316667</td>\n",
       "      <td>-0.7579</td>\n",
       "    </tr>\n",
       "    <tr>\n",
       "      <th>4</th>\n",
       "      <td>-1</td>\n",
       "      <td>The white man faced systemic challenges, evoki...</td>\n",
       "      <td>0</td>\n",
       "      <td>man</td>\n",
       "      <td>white</td>\n",
       "      <td>0.254</td>\n",
       "      <td>-0.350000</td>\n",
       "      <td>0.100000</td>\n",
       "      <td>-0.7579</td>\n",
       "    </tr>\n",
       "    <tr>\n",
       "      <th>...</th>\n",
       "      <td>...</td>\n",
       "      <td>...</td>\n",
       "      <td>...</td>\n",
       "      <td>...</td>\n",
       "      <td>...</td>\n",
       "      <td>...</td>\n",
       "      <td>...</td>\n",
       "      <td>...</td>\n",
       "      <td>...</td>\n",
       "    </tr>\n",
       "    <tr>\n",
       "      <th>907</th>\n",
       "      <td>-1</td>\n",
       "      <td>I got into a heated argument with a asian woma...</td>\n",
       "      <td>4</td>\n",
       "      <td>woman</td>\n",
       "      <td>asian</td>\n",
       "      <td>0.237</td>\n",
       "      <td>-0.040000</td>\n",
       "      <td>0.440000</td>\n",
       "      <td>-0.8979</td>\n",
       "    </tr>\n",
       "    <tr>\n",
       "      <th>908</th>\n",
       "      <td>-1</td>\n",
       "      <td>I got into a heated argument with a black man ...</td>\n",
       "      <td>4</td>\n",
       "      <td>man</td>\n",
       "      <td>black</td>\n",
       "      <td>0.348</td>\n",
       "      <td>-0.073333</td>\n",
       "      <td>0.526667</td>\n",
       "      <td>-0.8979</td>\n",
       "    </tr>\n",
       "    <tr>\n",
       "      <th>909</th>\n",
       "      <td>-1</td>\n",
       "      <td>I got into a heated argument with a black woma...</td>\n",
       "      <td>4</td>\n",
       "      <td>woman</td>\n",
       "      <td>black</td>\n",
       "      <td>0.339</td>\n",
       "      <td>-0.073333</td>\n",
       "      <td>0.526667</td>\n",
       "      <td>-0.8979</td>\n",
       "    </tr>\n",
       "    <tr>\n",
       "      <th>910</th>\n",
       "      <td>-1</td>\n",
       "      <td>I got into a heated argument with a white man ...</td>\n",
       "      <td>4</td>\n",
       "      <td>man</td>\n",
       "      <td>white</td>\n",
       "      <td>0.305</td>\n",
       "      <td>-0.040000</td>\n",
       "      <td>0.440000</td>\n",
       "      <td>-0.8979</td>\n",
       "    </tr>\n",
       "    <tr>\n",
       "      <th>911</th>\n",
       "      <td>-1</td>\n",
       "      <td>I got into a heated argument with a white woma...</td>\n",
       "      <td>4</td>\n",
       "      <td>woman</td>\n",
       "      <td>white</td>\n",
       "      <td>0.305</td>\n",
       "      <td>-0.040000</td>\n",
       "      <td>0.440000</td>\n",
       "      <td>-0.8979</td>\n",
       "    </tr>\n",
       "  </tbody>\n",
       "</table>\n",
       "<p>912 rows × 9 columns</p>\n",
       "</div>"
      ],
      "text/plain": [
       "     Sentiment                                           Sentence  \\\n",
       "0           -1  The asian man faced systemic challenges, evoki...   \n",
       "1           -1  The asian woman faced systemic challenges, evo...   \n",
       "2           -1  The black man faced systemic challenges, evoki...   \n",
       "3           -1  The black woman faced systemic challenges, evo...   \n",
       "4           -1  The white man faced systemic challenges, evoki...   \n",
       "..         ...                                                ...   \n",
       "907         -1  I got into a heated argument with a asian woma...   \n",
       "908         -1  I got into a heated argument with a black man ...   \n",
       "909         -1  I got into a heated argument with a black woma...   \n",
       "910         -1  I got into a heated argument with a white man ...   \n",
       "911         -1  I got into a heated argument with a white woma...   \n",
       "\n",
       "     Num Pronouns Gender   Race  perspectiveScore  tbPolairty  tbObjectivity  \\\n",
       "0               0    man  asian             0.038   -0.350000       0.100000   \n",
       "1               0  woman  asian             0.028   -0.350000       0.100000   \n",
       "2               0    man  black             0.102   -0.433333       0.316667   \n",
       "3               0  woman  black             0.086   -0.433333       0.316667   \n",
       "4               0    man  white             0.254   -0.350000       0.100000   \n",
       "..            ...    ...    ...               ...         ...            ...   \n",
       "907             4  woman  asian             0.237   -0.040000       0.440000   \n",
       "908             4    man  black             0.348   -0.073333       0.526667   \n",
       "909             4  woman  black             0.339   -0.073333       0.526667   \n",
       "910             4    man  white             0.305   -0.040000       0.440000   \n",
       "911             4  woman  white             0.305   -0.040000       0.440000   \n",
       "\n",
       "     vsScore  \n",
       "0    -0.7579  \n",
       "1    -0.7579  \n",
       "2    -0.7579  \n",
       "3    -0.7579  \n",
       "4    -0.7579  \n",
       "..       ...  \n",
       "907  -0.8979  \n",
       "908  -0.8979  \n",
       "909  -0.8979  \n",
       "910  -0.8979  \n",
       "911  -0.8979  \n",
       "\n",
       "[912 rows x 9 columns]"
      ]
     },
     "execution_count": 27,
     "metadata": {},
     "output_type": "execute_result"
    }
   ],
   "source": [
    "# Querying using the all methods API\n",
    "results = []\n",
    "for sentence in tqdm(audit_df['Sentence']):\n",
    "    results.append(mc.queryAllModelsSingle(sentence))\n",
    "    sleep(1)\n",
    "    \n",
    "# Adding results\n",
    "audit_results = pd.concat([audit_df, pd.DataFrame(results)], axis=1)\n",
    "audit_results"
   ]
  },
  {
   "cell_type": "code",
   "execution_count": 28,
   "id": "95fb5cf1",
   "metadata": {},
   "outputs": [],
   "source": [
    "# Make perspectiveScore range from -1 to 1\n",
    "audit_results['perspectiveScore_normalized'] = 1 - 2 * audit_results['perspectiveScore']"
   ]
  },
  {
   "cell_type": "code",
   "execution_count": 29,
   "id": "8300e5e6",
   "metadata": {},
   "outputs": [
    {
     "data": {
      "text/plain": [
       "<matplotlib.legend.Legend at 0x172568820>"
      ]
     },
     "execution_count": 29,
     "metadata": {},
     "output_type": "execute_result"
    },
    {
     "data": {
      "image/png": "[encoded data removed]",
      "text/plain": [
       "<Figure size 640x480 with 1 Axes>"
      ]
     },
     "metadata": {},
     "output_type": "display_data"
    }
   ],
   "source": [
    "# Plot Score Distributions\n",
    "plt.hist(audit_results['tbPolairty'], range=(-1,1), alpha=0.6, label='textblob')\n",
    "plt.hist(audit_results['vsScore'], range=(-1,1), alpha=0.6, label='vaderSentiment')\n",
    "plt.hist(audit_results['perspectiveScore_normalized'], range=(-1,1), alpha=0.6, label='Perspective API')\n",
    "\n",
    "plt.xlabel('Sentiment Scores')\n",
    "plt.ylabel('Frequency')\n",
    "plt.title(\"Model Score Distributions\")\n",
    "plt.legend()"
   ]
  },
  {
   "cell_type": "markdown",
   "id": "438adda1",
   "metadata": {},
   "source": [
    "## Statistical Analysis"
   ]
  },
  {
   "cell_type": "code",
   "execution_count": 57,
   "id": "228ad323",
   "metadata": {},
   "outputs": [],
   "source": [
    "# Create sub-dataframes for statistical analysis\n",
    "black_woman = audit_results[(audit_results['Gender'] == 'woman') & (audit_results['Race'] == 'black')]\n",
    "black_man = audit_results[(audit_results['Gender'] == 'man') & (audit_results['Race'] == 'black')]\n",
    "white_woman = audit_results[(audit_results['Gender'] == 'woman') & (audit_results['Race'] == 'white')]\n",
    "white_man = audit_results[(audit_results['Gender'] == 'man') & (audit_results['Race'] == 'white')]\n",
    "asian_woman = audit_results[(audit_results['Gender'] == 'woman') & (audit_results['Race'] == 'asian')]\n",
    "asian_man = audit_results[(audit_results['Gender'] == 'man') & (audit_results['Race'] == 'asian')]\n",
    "\n",
    "man = audit_results[(audit_results['Gender'] == 'man')]\n",
    "woman = audit_results[(audit_results['Gender'] == 'woman')]\n",
    "asian = audit_results[(audit_results['Race'] == 'asian')]\n",
    "white = audit_results[(audit_results['Race'] == 'white')]\n",
    "black = audit_results[(audit_results['Race'] == 'black')]\n",
    "\n",
    "identity_dfs = [black_woman, black_man, white_woman, white_man, asian_woman, asian_man, man, woman, asian, white, black]"
   ]
  },
  {
   "cell_type": "code",
   "execution_count": 66,
   "id": "0dfeba43",
   "metadata": {},
   "outputs": [],
   "source": [
    "def get_averages(col):\n",
    "    \"\"\" Returns averages of each identity given a model \n",
    "    \"\"\"\n",
    "    averages = {}\n",
    "    identities = ['black woman', \n",
    "                  'black man', \n",
    "                  'white woman', \n",
    "                  'white man', \n",
    "                  'asian woman', \n",
    "                  'asian man', \n",
    "                  'man', \n",
    "                  'woman', \n",
    "                  'asian', \n",
    "                  'white', \n",
    "                  'black']\n",
    "    for i in range(len(identity_dfs)):\n",
    "        averages[identities[i]] = identity_dfs[i][col].mean()\n",
    "    return averages"
   ]
  },
  {
   "cell_type": "markdown",
   "id": "08f61f91",
   "metadata": {},
   "source": [
    "**Null Hypothesis**: There is no difference in mean scores among models textblob, vaderSentiment, and Google's Perspective API.\n",
    "\n",
    "**Alternative Hypothesis**: There is a difference in mean scores among models textblob, vaderSentiment, and Google's Perspective API.\n",
    "\n",
    "**α**: 0.05"
   ]
  },
  {
   "cell_type": "code",
   "execution_count": 31,
   "id": "b64d6133",
   "metadata": {},
   "outputs": [
    {
     "name": "stdout",
     "output_type": "stream",
     "text": [
      "One-way ANOVA:\n",
      "F-statistic: 842.95173019446\n",
      "p-value: 7.010900497615434e-286\n"
     ]
    }
   ],
   "source": [
    "# Performs one-way ANOVA between model scores\n",
    "one_way_result = f_oneway(audit_results['perspectiveScore_normalized'],\n",
    "                          audit_results['tbPolairty'],\n",
    "                          audit_results['vsScore'])\n",
    "\n",
    "print(\"One-way ANOVA:\")\n",
    "print(\"F-statistic:\", one_way_result.statistic)\n",
    "print(\"p-value:\", one_way_result.pvalue)"
   ]
  },
  {
   "cell_type": "markdown",
   "id": "868283c4",
   "metadata": {},
   "source": [
    "**Interpretation**:\n",
    "\n",
    "- We reject the hypothesis that there is no difference in mean scores among extblob, vaderSentiment, and Google's Perspective API."
   ]
  },
  {
   "cell_type": "markdown",
   "id": "b5f07bc4",
   "metadata": {},
   "source": [
    "### Perspective API"
   ]
  },
  {
   "cell_type": "code",
   "execution_count": 68,
   "id": "b191a05e",
   "metadata": {},
   "outputs": [
    {
     "data": {
      "text/plain": [
       "{'black woman': 0.11203289473684208,\n",
       " 'black man': 0.11767763157894737,\n",
       " 'white woman': 0.1799013157894737,\n",
       " 'white man': 0.18694736842105264,\n",
       " 'asian woman': 0.05291447368421053,\n",
       " 'asian man': 0.05644736842105264,\n",
       " 'man': 0.12035745614035087,\n",
       " 'woman': 0.11494956140350877,\n",
       " 'asian': 0.054680921052631594,\n",
       " 'white': 0.18342434210526318,\n",
       " 'black': 0.11485526315789475}"
      ]
     },
     "execution_count": 68,
     "metadata": {},
     "output_type": "execute_result"
    }
   ],
   "source": [
    "get_averages('perspectiveScore')"
   ]
  },
  {
   "cell_type": "markdown",
   "id": "40cd71fb",
   "metadata": {},
   "source": [
    "**Null Hypothesis**: There is no difference in mean Perspective API scores among race and gender.\n",
    "\n",
    "**Alternative Hypothesis**: There is a difference in mean Perspective API scores among race and gender.\n",
    "\n",
    "**α**: 0.05"
   ]
  },
  {
   "cell_type": "code",
   "execution_count": 80,
   "id": "bacb0499",
   "metadata": {},
   "outputs": [
    {
     "name": "stdout",
     "output_type": "stream",
     "text": [
      "\n",
      "Two-way ANOVA:\n",
      "               sum_sq     df           F        PR(>F)\n",
      "Race         2.522951    2.0  129.638163  3.067406e-50\n",
      "Gender       0.006668    1.0    0.685244  4.080047e-01\n",
      "Race:Gender  0.000475    2.0    0.024428  9.758688e-01\n",
      "Residual     8.816051  906.0         NaN           NaN\n"
     ]
    }
   ],
   "source": [
    "# Performs two-way ANOVA on race and gender scores for Perspective API\n",
    "formula = 'perspectiveScore ~ Race + Gender + Race:Gender'\n",
    "model = ols(formula, audit_results).fit()\n",
    "two_way_result = anova_lm(model, typ=2)\n",
    "\n",
    "print(\"\\nTwo-way ANOVA:\")\n",
    "print(two_way_result)"
   ]
  },
  {
   "cell_type": "code",
   "execution_count": 87,
   "id": "49e2d0a8",
   "metadata": {},
   "outputs": [
    {
     "name": "stdout",
     "output_type": "stream",
     "text": [
      "\n",
      "Two-way ANOVA:\n",
      "F_onewayResult(statistic=129.962124922466, pvalue=2.282340866926404e-50)\n"
     ]
    }
   ],
   "source": [
    "# Performs two-way ANOVA on race scores for Perspective API\n",
    "one_way_result = f_oneway(black['perspectiveScore'],\n",
    "                          white['perspectiveScore'], asian['perspectiveScore'])\n",
    "\n",
    "print(\"\\nTwo-way ANOVA:\")\n",
    "print(one_way_result)"
   ]
  },
  {
   "cell_type": "code",
   "execution_count": 85,
   "id": "54a90cba",
   "metadata": {},
   "outputs": [
    {
     "name": "stdout",
     "output_type": "stream",
     "text": [
      "\n",
      "One-way ANOVA:\n",
      "F_onewayResult(statistic=0.5351058394698124, pvalue=0.4646564573567191)\n"
     ]
    }
   ],
   "source": [
    "# Performs two-way ANOVA on gender scores for Perspective API\n",
    "one_way_result = f_oneway(man['perspectiveScore'],\n",
    "                          woman['perspectiveScore'])\n",
    "\n",
    "print(\"\\nOne-way ANOVA:\")\n",
    "print(one_way_result)\n"
   ]
  },
  {
   "cell_type": "code",
   "execution_count": 35,
   "id": "933a881e",
   "metadata": {},
   "outputs": [
    {
     "name": "stdout",
     "output_type": "stream",
     "text": [
      "One-way ANOVA:\n",
      "F_onewayResult(statistic=66.4076370341167, pvalue=2.105993161273022e-15)\n"
     ]
    }
   ],
   "source": [
    "# Performs one-way ANOVA one black and white scores for Perspective API\n",
    "one_way_result = f_oneway(black['perspectiveScore'],\n",
    "                          white['perspectiveScore'])\n",
    "\n",
    "print(\"One-way ANOVA:\")\n",
    "print(one_way_result)"
   ]
  },
  {
   "cell_type": "code",
   "execution_count": 36,
   "id": "781bffa3",
   "metadata": {},
   "outputs": [
    {
     "name": "stdout",
     "output_type": "stream",
     "text": [
      "One-way ANOVA:\n",
      "F_onewayResult(statistic=362.42806530217104, pvalue=1.0803240009562116e-63)\n"
     ]
    }
   ],
   "source": [
    "# Performs one-way ANOVA one black and white scores for Perspective Api\n",
    "one_way_result = f_oneway(asian['perspectiveScore'],\n",
    "                          white['perspectiveScore'])\n",
    "\n",
    "print(\"One-way ANOVA:\")\n",
    "print(one_way_result)"
   ]
  },
  {
   "cell_type": "code",
   "execution_count": 76,
   "id": "2aaf1220",
   "metadata": {},
   "outputs": [
    {
     "name": "stdout",
     "output_type": "stream",
     "text": [
      "One-way ANOVA:\n",
      "F_onewayResult(statistic=48.25257581792653, pvalue=9.692218596469138e-12)\n"
     ]
    }
   ],
   "source": [
    "# Performs one-way ANOVA one black and white scores for Perspective Api\n",
    "one_way_result = f_oneway(black['perspectiveScore'],\n",
    "                          asian['perspectiveScore'])\n",
    "\n",
    "print(\"One-way ANOVA:\")\n",
    "print(one_way_result)"
   ]
  },
  {
   "cell_type": "markdown",
   "id": "7a7d231f",
   "metadata": {},
   "source": [
    "**Interpretation**:\n",
    "\n",
    "- We reject the hypothesis that there is no difference in mean Perspective API scores among race and gender.\n",
    "- We fail to reject the hypothesis that there is no difference in mean Perspective API scores among gender.\n",
    "- We reject the hypothesis that there is no difference in mean Perspective API scores among races.\n",
    "    - We reject the hypothesis that there is no difference in mean Perspective API scores among black and white.\n",
    "    - We reject the hypothesis that there is no difference in mean Perspective API scores among black and asian.\n",
    "    - We reject the hypothesis that there is no difference in mean Perspective API scores among asian and white.\n",
    "\n"
   ]
  },
  {
   "cell_type": "code",
   "execution_count": 75,
   "id": "52a22e3d",
   "metadata": {},
   "outputs": [
    {
     "data": {
      "text/plain": [
       "<matplotlib.legend.Legend at 0x173d26ec0>"
      ]
     },
     "execution_count": 75,
     "metadata": {},
     "output_type": "execute_result"
    },
    {
     "data": {
      "image/png": "[encoded data removed]",
      "text/plain": [
       "<Figure size 640x480 with 1 Axes>"
      ]
     },
     "metadata": {},
     "output_type": "display_data"
    }
   ],
   "source": [
    "# Plot Perspective API score Distributions among races \n",
    "plt.hist(white['perspectiveScore'], alpha=0.6, label='white')\n",
    "plt.hist(black['perspectiveScore'], alpha=0.6, label='black')\n",
    "plt.hist(asian['perspectiveScore'], alpha=0.6, label='Asian')\n",
    "\n",
    "plt.xlabel('Sentiment Score')\n",
    "plt.ylabel('Frequency')\n",
    "plt.title(\"Race Score Distributions Perspective API\")\n",
    "plt.legend()"
   ]
  },
  {
   "cell_type": "code",
   "execution_count": 74,
   "id": "999e6631",
   "metadata": {},
   "outputs": [
    {
     "data": {
      "text/plain": [
       "<matplotlib.legend.Legend at 0x173c56320>"
      ]
     },
     "execution_count": 74,
     "metadata": {},
     "output_type": "execute_result"
    },
    {
     "data": {
      "image/png": "[encoded data removed]",
      "text/plain": [
       "<Figure size 640x480 with 1 Axes>"
      ]
     },
     "metadata": {},
     "output_type": "display_data"
    }
   ],
   "source": [
    "# Plot Perspective API score Distributions between gender\n",
    "plt.hist(woman['perspectiveScore'],alpha=0.7, label='female')\n",
    "plt.hist(man['perspectiveScore'], alpha=0.7, label='male')\n",
    "\n",
    "plt.xlabel('Sentiment Score')\n",
    "plt.ylabel('Frequency')\n",
    "plt.title(\"Gender Score Distributions Perspective API\")\n",
    "plt.legend()"
   ]
  },
  {
   "cell_type": "code",
   "execution_count": 73,
   "id": "6590f827",
   "metadata": {},
   "outputs": [
    {
     "data": {
      "text/plain": [
       "<matplotlib.legend.Legend at 0x28ac13bb0>"
      ]
     },
     "execution_count": 73,
     "metadata": {},
     "output_type": "execute_result"
    },
    {
     "data": {
      "image/png": "[encoded data removed]",
      "text/plain": [
       "<Figure size 640x480 with 1 Axes>"
      ]
     },
     "metadata": {},
     "output_type": "display_data"
    }
   ],
   "source": [
    "# Plot Perspective API score Distributions between gender/race identities\n",
    "plt.hist(black_woman['perspectiveScore'],alpha=0.5, label='black female')\n",
    "plt.hist(black_man['perspectiveScore'], alpha=0.5, label='black male')\n",
    "plt.hist(white_woman['perspectiveScore'],alpha=0.5, label='white female')\n",
    "plt.hist(white_man['perspectiveScore'],alpha=0.5, label='white male')\n",
    "plt.hist(asian_woman['perspectiveScore'],alpha=0.5, label='asian female')\n",
    "plt.hist(asian_man['perspectiveScore'],alpha=0.5, label='asian male')\n",
    "\n",
    "plt.xlabel('Sentiment Score')\n",
    "plt.ylabel('Frequency')\n",
    "plt.title(\"Race/Gender Distributions Perspective API\")\n",
    "plt.legend()"
   ]
  },
  {
   "cell_type": "markdown",
   "id": "5424e3f1",
   "metadata": {},
   "source": [
    "### textblob"
   ]
  },
  {
   "cell_type": "code",
   "execution_count": 70,
   "id": "c2351ddb",
   "metadata": {},
   "outputs": [
    {
     "data": {
      "text/plain": [
       "{'black woman': 0.0037537321048834275,\n",
       " 'black man': 0.0037537321048834275,\n",
       " 'white woman': 0.0770019568333713,\n",
       " 'white man': 0.0770019568333713,\n",
       " 'asian woman': 0.0770019568333713,\n",
       " 'asian man': 0.0770019568333713,\n",
       " 'man': 0.052585881923875345,\n",
       " 'woman': 0.052585881923875345,\n",
       " 'asian': 0.0770019568333713,\n",
       " 'white': 0.0770019568333713,\n",
       " 'black': 0.003753732104883426}"
      ]
     },
     "execution_count": 70,
     "metadata": {},
     "output_type": "execute_result"
    }
   ],
   "source": [
    "get_averages('tbPolairty')"
   ]
  },
  {
   "cell_type": "code",
   "execution_count": 88,
   "id": "3c6faff0",
   "metadata": {},
   "outputs": [
    {
     "data": {
      "text/plain": [
       "{'black woman': 0.4967463521493127,\n",
       " 'black man': 0.4967463521493127,\n",
       " 'white woman': 0.30630096785524413,\n",
       " 'white man': 0.30630096785524413,\n",
       " 'asian woman': 0.30630096785524413,\n",
       " 'asian man': 0.30630096785524413,\n",
       " 'man': 0.36978276261993365,\n",
       " 'woman': 0.36978276261993365,\n",
       " 'asian': 0.3063009678552442,\n",
       " 'white': 0.3063009678552442,\n",
       " 'black': 0.49674635214931273}"
      ]
     },
     "execution_count": 88,
     "metadata": {},
     "output_type": "execute_result"
    }
   ],
   "source": [
    "get_averages('tbObjectivity')"
   ]
  },
  {
   "cell_type": "markdown",
   "id": "d910af3b",
   "metadata": {},
   "source": [
    "**Null Hypothesis**: There is no difference in mean textblob scores among race and gender.\n",
    "\n",
    "**Alternative Hypothesis**: There is a difference in mean textblob scores among race and gender.\n",
    "\n",
    "**α**: 0.05"
   ]
  },
  {
   "cell_type": "code",
   "execution_count": 83,
   "id": "9943145d",
   "metadata": {},
   "outputs": [
    {
     "name": "stdout",
     "output_type": "stream",
     "text": [
      "\n",
      "Two-way ANOVA:\n",
      "                df        sum_sq       mean_sq             F        PR(>F)\n",
      "Race           2.0  1.087368e+00  5.436840e-01  1.558997e+01  2.204257e-07\n",
      "Gender         1.0  1.263561e-30  1.263561e-30  3.623220e-29  1.000000e+00\n",
      "Race:Gender    2.0  2.069488e-29  1.034744e-29  2.967096e-28  1.000000e+00\n",
      "Residual     906.0  3.159581e+01  3.487396e-02           NaN           NaN\n"
     ]
    }
   ],
   "source": [
    "# Performs two-way ANOVA on race and gender scores for textblob\n",
    "formula = 'tbPolairty ~ Race + Gender + Race:Gender'\n",
    "model = ols(formula, audit_results).fit()\n",
    "two_way_result = anova_lm(model)\n",
    "\n",
    "print(\"\\nTwo-way ANOVA:\")\n",
    "print(two_way_result)"
   ]
  },
  {
   "cell_type": "code",
   "execution_count": 89,
   "id": "c1ac4fa9",
   "metadata": {},
   "outputs": [
    {
     "name": "stdout",
     "output_type": "stream",
     "text": [
      "\n",
      "Two-way ANOVA:\n",
      "                df        sum_sq       mean_sq             F        PR(>F)\n",
      "Race           2.0  7.350607e+00  3.675304e+00  1.114403e+02  5.364632e-44\n",
      "Gender         1.0  4.392119e-29  4.392119e-29  1.331751e-27  1.000000e+00\n",
      "Race:Gender    2.0  7.708488e-30  3.854244e-30  1.168660e-28  1.000000e+00\n",
      "Residual     906.0  2.987991e+01  3.298004e-02           NaN           NaN\n"
     ]
    }
   ],
   "source": [
    "# Performs two-way ANOVA on race and gender scores for textblob\n",
    "formula = 'tbObjectivity ~ Race + Gender + Race:Gender'\n",
    "model = ols(formula, audit_results).fit()\n",
    "two_way_result = anova_lm(model)\n",
    "\n",
    "print(\"\\nTwo-way ANOVA:\")\n",
    "print(two_way_result)"
   ]
  },
  {
   "cell_type": "code",
   "execution_count": 42,
   "id": "eab8d8c8",
   "metadata": {},
   "outputs": [
    {
     "name": "stdout",
     "output_type": "stream",
     "text": [
      "\n",
      "Two-way ANOVA:\n",
      "             df     sum_sq   mean_sq          F        PR(>F)\n",
      "Race        2.0   1.087368  0.543684  15.641591  2.095174e-07\n",
      "Residual  909.0  31.595809  0.034759        NaN           NaN\n"
     ]
    }
   ],
   "source": [
    "# Performs one-way ANOVA on race scores for textblob\n",
    "formula = 'tbPolairty ~ Race'\n",
    "model = ols(formula, audit_results).fit()\n",
    "two_way_result = anova_lm(model)\n",
    "\n",
    "print(\"\\nTwo-way ANOVA:\")\n",
    "print(two_way_result)"
   ]
  },
  {
   "cell_type": "code",
   "execution_count": 90,
   "id": "c1efdd90",
   "metadata": {},
   "outputs": [
    {
     "name": "stdout",
     "output_type": "stream",
     "text": [
      "\n",
      "Two-way ANOVA:\n",
      "             df     sum_sq   mean_sq           F        PR(>F)\n",
      "Race        2.0   7.350607  3.675304  111.809265  3.857094e-44\n",
      "Residual  909.0  29.879913  0.032871         NaN           NaN\n"
     ]
    }
   ],
   "source": [
    "# Performs one-way ANOVA on race scores for textblob\n",
    "formula = 'tbObjectivity ~ Race'\n",
    "model = ols(formula, audit_results).fit()\n",
    "two_way_result = anova_lm(model)\n",
    "\n",
    "print(\"\\nTwo-way ANOVA:\")\n",
    "print(two_way_result)"
   ]
  },
  {
   "cell_type": "code",
   "execution_count": 43,
   "id": "4da45a5d",
   "metadata": {},
   "outputs": [
    {
     "name": "stdout",
     "output_type": "stream",
     "text": [
      "\n",
      "Two-way ANOVA:\n",
      "             df        sum_sq       mean_sq             F  PR(>F)\n",
      "Gender      1.0  4.099747e-32  4.099747e-32  1.141495e-30     1.0\n",
      "Residual  910.0  3.268318e+01  3.591558e-02           NaN     NaN\n"
     ]
    }
   ],
   "source": [
    "# Performs one-way ANOVA on race scores for textblob\n",
    "formula = 'tbPolairty ~ Gender'\n",
    "model = ols(formula, audit_results).fit()\n",
    "two_way_result = anova_lm(model)\n",
    "\n",
    "print(\"\\nTwo-way ANOVA:\")\n",
    "print(two_way_result)"
   ]
  },
  {
   "cell_type": "code",
   "execution_count": 92,
   "id": "fbe16e7a",
   "metadata": {},
   "outputs": [
    {
     "name": "stdout",
     "output_type": "stream",
     "text": [
      "\n",
      "Two-way ANOVA:\n",
      "             df        sum_sq       mean_sq             F  PR(>F)\n",
      "Gender      1.0  2.334151e-29  2.334151e-29  5.705205e-28     1.0\n",
      "Residual  910.0  3.723052e+01  4.091266e-02           NaN     NaN\n"
     ]
    }
   ],
   "source": [
    "# Performs one-way ANOVA on race scores for textblob\n",
    "formula = 'tbObjectivity ~ Gender'\n",
    "model = ols(formula, audit_results).fit()\n",
    "two_way_result = anova_lm(model)\n",
    "\n",
    "print(\"\\nTwo-way ANOVA:\")\n",
    "print(two_way_result)"
   ]
  },
  {
   "cell_type": "code",
   "execution_count": 44,
   "id": "e38ef64e",
   "metadata": {},
   "outputs": [
    {
     "name": "stdout",
     "output_type": "stream",
     "text": [
      "One-way ANOVA:\n",
      "F_onewayResult(statistic=22.797623232891706, pvalue=2.259316190307946e-06)\n"
     ]
    }
   ],
   "source": [
    "# Performs one-way ANOVA on black and white scores for textblob\n",
    "one_way_result = f_oneway(black['tbPolairty'],\n",
    "                          white['tbPolairty'])\n",
    "\n",
    "print(\"One-way ANOVA:\")\n",
    "print(one_way_result)"
   ]
  },
  {
   "cell_type": "code",
   "execution_count": 93,
   "id": "de6a9f6d",
   "metadata": {},
   "outputs": [
    {
     "name": "stdout",
     "output_type": "stream",
     "text": [
      "One-way ANOVA:\n",
      "F_onewayResult(statistic=185.88820388510467, pvalue=4.139841106179149e-37)\n"
     ]
    }
   ],
   "source": [
    "# Performs one-way ANOVA on black and white scores for textblob\n",
    "one_way_result = f_oneway(black['tbObjectivity'],\n",
    "                          white['tbObjectivity'])\n",
    "\n",
    "print(\"One-way ANOVA:\")\n",
    "print(one_way_result)"
   ]
  },
  {
   "cell_type": "code",
   "execution_count": 45,
   "id": "ce9b36b1",
   "metadata": {},
   "outputs": [
    {
     "name": "stdout",
     "output_type": "stream",
     "text": [
      "One-way ANOVA:\n",
      "F_onewayResult(statistic=22.797623232891706, pvalue=2.259316190307946e-06)\n"
     ]
    }
   ],
   "source": [
    "# Performs one-way ANOVA on black and asian scores for textblob\n",
    "one_way_result = f_oneway(black['tbPolairty'],\n",
    "                          asian['tbPolairty'])\n",
    "\n",
    "print(\"One-way ANOVA:\")\n",
    "print(one_way_result)"
   ]
  },
  {
   "cell_type": "code",
   "execution_count": 94,
   "id": "b11de990",
   "metadata": {},
   "outputs": [
    {
     "name": "stdout",
     "output_type": "stream",
     "text": [
      "One-way ANOVA:\n",
      "F_onewayResult(statistic=185.88820388510467, pvalue=4.139841106179149e-37)\n"
     ]
    }
   ],
   "source": [
    "# Performs one-way ANOVA on black and asian scores for textblob\n",
    "one_way_result = f_oneway(black['tbObjectivity'],\n",
    "                          asian['tbObjectivity'])\n",
    "\n",
    "print(\"One-way ANOVA:\")\n",
    "print(one_way_result)"
   ]
  },
  {
   "cell_type": "code",
   "execution_count": 46,
   "id": "cf47a3ab",
   "metadata": {},
   "outputs": [
    {
     "name": "stdout",
     "output_type": "stream",
     "text": [
      "One-way ANOVA:\n",
      "F_onewayResult(statistic=0.0, pvalue=1.0)\n"
     ]
    }
   ],
   "source": [
    "# Performs one-way ANOVA on asian and white scores for Perspective Api\n",
    "one_way_result = f_oneway(audit_results[audit_results['Race'] == 'white']['tbPolairty'],\n",
    "                          audit_results[audit_results['Race'] == 'asian']['tbPolairty'])\n",
    "\n",
    "print(\"One-way ANOVA:\")\n",
    "print(one_way_result)"
   ]
  },
  {
   "cell_type": "code",
   "execution_count": 95,
   "id": "0bb8b495",
   "metadata": {},
   "outputs": [
    {
     "name": "stdout",
     "output_type": "stream",
     "text": [
      "One-way ANOVA:\n",
      "F_onewayResult(statistic=0.0, pvalue=1.0)\n"
     ]
    }
   ],
   "source": [
    "# Performs one-way ANOVA on asian and white scores for Perspective Api\n",
    "one_way_result = f_oneway(audit_results[audit_results['Race'] == 'white']['tbObjectivity'],\n",
    "                          audit_results[audit_results['Race'] == 'asian']['tbObjectivity'])\n",
    "\n",
    "print(\"One-way ANOVA:\")\n",
    "print(one_way_result)"
   ]
  },
  {
   "cell_type": "markdown",
   "id": "086a7fb5",
   "metadata": {},
   "source": [
    "**Interpretation**:\n",
    "\n",
    "- We reject the hypothesis that there is no difference in mean textblob scores among race and gender.\n",
    "- We fail to reject the hypothesis that there is no difference in mean textblob scores among gender.\n",
    "- We reject the hypothesis that there is no difference in mean textblob scores among races.\n",
    "    - We reject the hypothesis that there is no difference in mean textblob scores among black and white.\n",
    "    - We reject the hypothesis that there is no difference in mean textblob scores among black and asian.\n",
    "    - We fail to reject the hypothesis that there is no difference in mean textblob scores among asian and white.\n",
    "\n"
   ]
  },
  {
   "cell_type": "code",
   "execution_count": 47,
   "id": "fa88c567",
   "metadata": {},
   "outputs": [
    {
     "data": {
      "text/plain": [
       "<matplotlib.legend.Legend at 0x173bbf670>"
      ]
     },
     "execution_count": 47,
     "metadata": {},
     "output_type": "execute_result"
    },
    {
     "data": {
      "image/png": "[encoded data removed]",
      "text/plain": [
       "<Figure size 640x480 with 1 Axes>"
      ]
     },
     "metadata": {},
     "output_type": "display_data"
    }
   ],
   "source": [
    "# Plot textblob score Distributions among races \n",
    "plt.hist(white['tbPolairty'], range=(-1,1), alpha=0.6, label='white')\n",
    "plt.hist(black['tbPolairty'], range=(-1,1), alpha=0.6, label='black')\n",
    "plt.hist(asian['tbPolairty'], range=(-1,1), alpha=0.6, label='Asian')\n",
    "\n",
    "plt.xlabel('Sentiment Score')\n",
    "plt.ylabel('Frequency')\n",
    "plt.title(\"Race Score Distributions tbPolairty\")\n",
    "plt.legend()"
   ]
  },
  {
   "cell_type": "code",
   "execution_count": 48,
   "id": "59353b45",
   "metadata": {},
   "outputs": [
    {
     "data": {
      "text/plain": [
       "<matplotlib.legend.Legend at 0x173a0e200>"
      ]
     },
     "execution_count": 48,
     "metadata": {},
     "output_type": "execute_result"
    },
    {
     "data": {
      "image/png": "[encoded data removed]",
      "text/plain": [
       "<Figure size 640x480 with 1 Axes>"
      ]
     },
     "metadata": {},
     "output_type": "display_data"
    }
   ],
   "source": [
    "# Plot textblob score Distributions among races \n",
    "plt.hist(woman['tbPolairty'], range=(-1,1), alpha=0.6, label='female')\n",
    "plt.hist(man['tbPolairty'], range=(-1,1), alpha=0.6, label='male')\n",
    "\n",
    "plt.xlabel('Sentiment Score')\n",
    "plt.ylabel('Frequency')\n",
    "plt.title(\"Gender Score Distributions tbPolairty\")\n",
    "plt.legend()"
   ]
  },
  {
   "cell_type": "code",
   "execution_count": 49,
   "id": "f8154cd6",
   "metadata": {},
   "outputs": [
    {
     "data": {
      "text/plain": [
       "<matplotlib.legend.Legend at 0x1760b3c70>"
      ]
     },
     "execution_count": 49,
     "metadata": {},
     "output_type": "execute_result"
    },
    {
     "data": {
      "image/png": "[encoded data removed]",
      "text/plain": [
       "<Figure size 640x480 with 1 Axes>"
      ]
     },
     "metadata": {},
     "output_type": "display_data"
    }
   ],
   "source": [
    "# Plot Perspective API score Distributions between gender/race identities\n",
    "plt.hist(black_woman['tbPolairty'], range=(-1,1),alpha=0.5, label='black female')\n",
    "plt.hist(black_man['tbPolairty'], range=(-1,1), alpha=0.5, label='black male')\n",
    "plt.hist(white_woman['tbPolairty'], range=(-1,1),alpha=0.5, label='white female')\n",
    "plt.hist(white_man['tbPolairty'], range=(-1,1), alpha=0.5, label='white male')\n",
    "plt.hist(asian_woman['tbPolairty'], range=(-1,1),alpha=0.5, label='asian female')\n",
    "plt.hist(asian_man['tbPolairty'], range=(-1,1), alpha=0.5, label='asian male')\n",
    "\n",
    "plt.xlabel('Sentiment Score')\n",
    "plt.ylabel('Frequency')\n",
    "plt.title(\"Race/Gender Distributions tbPolairty\")\n",
    "plt.legend()"
   ]
  },
  {
   "cell_type": "markdown",
   "id": "2e0661f9",
   "metadata": {},
   "source": [
    "### vaderSentiment"
   ]
  },
  {
   "cell_type": "code",
   "execution_count": 72,
   "id": "b2e29cb2",
   "metadata": {},
   "outputs": [
    {
     "data": {
      "text/plain": [
       "{'black woman': 0.2218032894736842,\n",
       " 'black man': 0.2218032894736842,\n",
       " 'white woman': 0.2218032894736842,\n",
       " 'white man': 0.2218032894736842,\n",
       " 'asian woman': 0.2218032894736842,\n",
       " 'asian man': 0.2218032894736842,\n",
       " 'man': 0.22180328947368422,\n",
       " 'woman': 0.22180328947368422,\n",
       " 'asian': 0.22180328947368422,\n",
       " 'white': 0.22180328947368422,\n",
       " 'black': 0.22180328947368422}"
      ]
     },
     "execution_count": 72,
     "metadata": {},
     "output_type": "execute_result"
    }
   ],
   "source": [
    "get_averages('vsScore')"
   ]
  },
  {
   "cell_type": "markdown",
   "id": "acb8498b",
   "metadata": {},
   "source": [
    "**Null Hypothesis**: There is no difference in mean vaderSentiment scores among race and gender.\n",
    "\n",
    "**Alternative Hypothesis**: There is a difference in mean vaderSentiment scores among race and gender.\n",
    "\n",
    "**α**: 0.05"
   ]
  },
  {
   "cell_type": "code",
   "execution_count": 82,
   "id": "d2411ef8",
   "metadata": {},
   "outputs": [
    {
     "name": "stdout",
     "output_type": "stream",
     "text": [
      "\n",
      "Two-way ANOVA:\n",
      "                df        sum_sq       mean_sq             F  PR(>F)\n",
      "Race           2.0  1.145809e-29  5.729047e-30  1.567221e-29     1.0\n",
      "Gender         1.0  1.940976e-29  1.940976e-29  5.309678e-29     1.0\n",
      "Race:Gender    2.0  4.738179e-29  2.369090e-29  6.480812e-29     1.0\n",
      "Residual     906.0  3.311923e+02  3.655544e-01           NaN     NaN\n"
     ]
    }
   ],
   "source": [
    "# Performs two-way ANOVA on race and gender scores for vaderSentiment\n",
    "formula = 'vsScore ~ Race + Gender + Race:Gender'\n",
    "model = ols(formula, audit_results).fit()\n",
    "two_way_result = anova_lm(model)\n",
    "\n",
    "print(\"\\nTwo-way ANOVA:\")\n",
    "print(two_way_result)"
   ]
  },
  {
   "cell_type": "code",
   "execution_count": 51,
   "id": "5624b13e",
   "metadata": {},
   "outputs": [
    {
     "name": "stdout",
     "output_type": "stream",
     "text": [
      "\n",
      "Two-way ANOVA:\n",
      "             df        sum_sq       mean_sq             F  PR(>F)\n",
      "Race        2.0  1.145809e-29  5.729047e-30  1.572411e-29     1.0\n",
      "Residual  909.0  3.311923e+02  3.643480e-01           NaN     NaN\n"
     ]
    }
   ],
   "source": [
    "# Performs one-way ANOVA on race and gender scores for vaderSentiment\n",
    "formula = 'vsScore ~ Race'\n",
    "model = ols(formula, audit_results).fit()\n",
    "two_way_result = anova_lm(model)\n",
    "\n",
    "print(\"\\nTwo-way ANOVA:\")\n",
    "print(two_way_result)"
   ]
  },
  {
   "cell_type": "code",
   "execution_count": 52,
   "id": "f380a647",
   "metadata": {},
   "outputs": [
    {
     "name": "stdout",
     "output_type": "stream",
     "text": [
      "\n",
      "Two-way ANOVA:\n",
      "             df        sum_sq       mean_sq             F  PR(>F)\n",
      "Gender      1.0  3.094570e-30  3.094570e-30  8.502790e-30     1.0\n",
      "Residual  910.0  3.311923e+02  3.639476e-01           NaN     NaN\n"
     ]
    }
   ],
   "source": [
    "# Performs one-way ANOVA on gender scores for vaderSentiment\n",
    "formula = 'vsScore ~ Gender'\n",
    "model = ols(formula, audit_results).fit()\n",
    "two_way_result = anova_lm(model)\n",
    "\n",
    "print(\"\\nTwo-way ANOVA:\")\n",
    "print(two_way_result)"
   ]
  },
  {
   "cell_type": "markdown",
   "id": "dbae247d",
   "metadata": {},
   "source": [
    "Interpretation:\n",
    "\n",
    "- We fail to reject the hypothesis that there is no difference in mean textblob scores among race and gender.\n",
    "- We fail to reject the hypothesis that there is no difference in mean textblob scores among gender.\n",
    "- We fail to reject the hypothesis that there is no difference in mean textblob scores among races."
   ]
  },
  {
   "cell_type": "code",
   "execution_count": 53,
   "id": "d60a7b7d",
   "metadata": {},
   "outputs": [
    {
     "data": {
      "text/plain": [
       "<matplotlib.legend.Legend at 0x1730ce710>"
      ]
     },
     "execution_count": 53,
     "metadata": {},
     "output_type": "execute_result"
    },
    {
     "data": {
      "image/png": "[encoded data removed]",
      "text/plain": [
       "<Figure size 640x480 with 1 Axes>"
      ]
     },
     "metadata": {},
     "output_type": "display_data"
    }
   ],
   "source": [
    "# Plot vaderSentiment score Distributions among races \n",
    "plt.hist(white['vsScore'], range=(-1,1), alpha=0.6, label='white')\n",
    "plt.hist(black['vsScore'], range=(-1,1), alpha=0.6, label='black')\n",
    "plt.hist(asian['vsScore'], range=(-1,1), alpha=0.6, label='Asian')\n",
    "\n",
    "plt.xlabel('Sentiment Score')\n",
    "plt.ylabel('Frequency')\n",
    "plt.title(\"Race Score Distributions vsScore\")\n",
    "plt.legend()"
   ]
  },
  {
   "cell_type": "code",
   "execution_count": 54,
   "id": "bcfaa4ac",
   "metadata": {},
   "outputs": [
    {
     "data": {
      "text/plain": [
       "<matplotlib.legend.Legend at 0x28aa70a60>"
      ]
     },
     "execution_count": 54,
     "metadata": {},
     "output_type": "execute_result"
    },
    {
     "data": {
      "image/png": "[encoded data removed]",
      "text/plain": [
       "<Figure size 640x480 with 1 Axes>"
      ]
     },
     "metadata": {},
     "output_type": "display_data"
    }
   ],
   "source": [
    "# Plot vaderSentiment score Distributions among races \n",
    "plt.hist(woman['vsScore'], range=(-1,1), alpha=0.6, label='female')\n",
    "plt.hist(man['vsScore'], range=(-1,1), alpha=0.6, label='male')\n",
    "\n",
    "plt.xlabel('Sentiment Score')\n",
    "plt.ylabel('Frequency')\n",
    "plt.title(\"Gender Score Distributions vsScore\")\n",
    "plt.legend()"
   ]
  },
  {
   "cell_type": "code",
   "execution_count": null,
   "id": "c5d1ee3e",
   "metadata": {},
   "outputs": [],
   "source": []
  },
  {
   "cell_type": "code",
   "execution_count": null,
   "id": "d4f1cd0c",
   "metadata": {},
   "outputs": [],
   "source": []
  },
  {
   "cell_type": "code",
   "execution_count": null,
   "id": "6f4bd4e5",
   "metadata": {},
   "outputs": [],
   "source": []
  },
  {
   "cell_type": "code",
   "execution_count": null,
   "id": "0fd11972",
   "metadata": {},
   "outputs": [],
   "source": []
  },
  {
   "cell_type": "code",
   "execution_count": null,
   "id": "c20e2c5f",
   "metadata": {},
   "outputs": [],
   "source": []
  },
  {
   "cell_type": "code",
   "execution_count": null,
   "id": "7bc25483",
   "metadata": {},
   "outputs": [],
   "source": []
  }
 ],
 "metadata": {
  "kernelspec": {
   "display_name": "Python 3 (ipykernel)",
   "language": "python",
   "name": "python3"
  },
  "language_info": {
   "codemirror_mode": {
    "name": "ipython",
    "version": 3
   },
   "file_extension": ".py",
   "mimetype": "text/x-python",
   "name": "python",
   "nbconvert_exporter": "python",
   "pygments_lexer": "ipython3",
   "version": "3.10.9"
  }
 },
 "nbformat": 4,
 "nbformat_minor": 5
}
