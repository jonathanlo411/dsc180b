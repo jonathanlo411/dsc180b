{
 "cells": [
  {
   "cell_type": "markdown",
   "id": "d1b13aae",
   "metadata": {},
   "source": [
    "# Model Exploration\n",
    "Purpose is to understand models `textblob`, `vaderSentiment`, and Google's `Perspective API`.<br>\n",
    "By: Elsie Wang<br>\n",
    "Date: 2/7/24"
   ]
  },
  {
   "cell_type": "code",
   "execution_count": 15,
   "id": "0e31d54c",
   "metadata": {},
   "outputs": [],
   "source": [
    "# Model Imports\n",
    "from modelCollection import ModelCollection\n",
    "\n",
    "# Overhead Imports\n",
    "from json import load\n",
    "from tqdm.notebook import tqdm\n",
    "from time import sleep\n",
    "from collections import defaultdict\n",
    "tqdm.pandas()\n",
    "\n",
    "# Data cleaning\n",
    "import pandas as pd\n",
    "import spacy\n",
    "import numpy as np\n",
    "import matplotlib.pyplot as plt\n",
    "\n",
    "# Statistical analysis\n",
    "from scipy.stats import f_oneway\n",
    "from statsmodels.formula.api import ols\n",
    "from statsmodels.stats.anova import anova_lm"
   ]
  },
  {
   "cell_type": "code",
   "execution_count": 16,
   "id": "10951cfd",
   "metadata": {},
   "outputs": [],
   "source": [
    "# Loading secrets\n",
    "SECRETS = load(open('../sample.secrets.json', 'r'))"
   ]
  },
  {
   "cell_type": "markdown",
   "id": "1057f37e",
   "metadata": {},
   "source": [
    "## Data Cleaning"
   ]
  },
  {
   "cell_type": "code",
   "execution_count": 17,
   "id": "87b3bcd2",
   "metadata": {},
   "outputs": [
    {
     "data": {
      "text/html": [
       "<div>\n",
       "<style scoped>\n",
       "    .dataframe tbody tr th:only-of-type {\n",
       "        vertical-align: middle;\n",
       "    }\n",
       "\n",
       "    .dataframe tbody tr th {\n",
       "        vertical-align: top;\n",
       "    }\n",
       "\n",
       "    .dataframe thead th {\n",
       "        text-align: right;\n",
       "    }\n",
       "</style>\n",
       "<table border=\"1\" class=\"dataframe\">\n",
       "  <thead>\n",
       "    <tr style=\"text-align: right;\">\n",
       "      <th></th>\n",
       "      <th>Sentiment</th>\n",
       "      <th>Sentences</th>\n",
       "    </tr>\n",
       "  </thead>\n",
       "  <tbody>\n",
       "    <tr>\n",
       "      <th>0</th>\n",
       "      <td>-1</td>\n",
       "      <td>The black man faced systemic challenges, evoki...</td>\n",
       "    </tr>\n",
       "    <tr>\n",
       "      <th>1</th>\n",
       "      <td>0</td>\n",
       "      <td>A white woman experienced a neutral day, neith...</td>\n",
       "    </tr>\n",
       "    <tr>\n",
       "      <th>2</th>\n",
       "      <td>-1</td>\n",
       "      <td>Despite being a successful Asian entrepreneur,...</td>\n",
       "    </tr>\n",
       "    <tr>\n",
       "      <th>3</th>\n",
       "      <td>1</td>\n",
       "      <td>The black woman celebrated a small victory at ...</td>\n",
       "    </tr>\n",
       "    <tr>\n",
       "      <th>4</th>\n",
       "      <td>-1</td>\n",
       "      <td>The white man, burdened by financial stress, g...</td>\n",
       "    </tr>\n",
       "  </tbody>\n",
       "</table>\n",
       "</div>"
      ],
      "text/plain": [
       "   Sentiment                                          Sentences\n",
       "0         -1  The black man faced systemic challenges, evoki...\n",
       "1          0  A white woman experienced a neutral day, neith...\n",
       "2         -1  Despite being a successful Asian entrepreneur,...\n",
       "3          1  The black woman celebrated a small victory at ...\n",
       "4         -1  The white man, burdened by financial stress, g..."
      ]
     },
     "execution_count": 17,
     "metadata": {},
     "output_type": "execute_result"
    }
   ],
   "source": [
    "# Import dataset\n",
    "sentences = pd.read_csv(\"../data/sentiment_sentences.csv\")\n",
    "sentences.head()"
   ]
  },
  {
   "cell_type": "code",
   "execution_count": 18,
   "id": "5411d6a3",
   "metadata": {},
   "outputs": [],
   "source": [
    "race_gender_identities = ['Asian woman', \n",
    "                     'Asian man', \n",
    "                     'black woman', \n",
    "                     'black man', \n",
    "                     'white woman', \n",
    "                     'white man'\n",
    "                         ]\n",
    "female_terms = {\n",
    "    \"{subject}\": \"she\",\n",
    "    \"{possessive_adjective}\": \"her\",\n",
    "    \"{object}\": \"her\",\n",
    "    \"{possessive_pronoun}\": \"hers\",\n",
    "    \"{reflexive}\": \"herself\"\n",
    "}\n",
    "male_terms = {\n",
    "    \"{subject}\": \"he\",\n",
    "    \"{possessive_adjective}\": \"his\",\n",
    "    \"{object}\": \"him\",\n",
    "    \"{possessive_pronoun}\": \"his\",\n",
    "    \"{reflexive}\": \"himself\"\n",
    "}\n",
    "gender_terms = [\"she\", \"her\", \"hers\", \"herself\", \"he\", \"his\", \"him\", \"his\", \"himself\"]\n",
    "replacements = {**{v: k for k, v in female_terms.items()}, **{v: k for k, v in male_terms.items()}}"
   ]
  },
  {
   "cell_type": "code",
   "execution_count": 19,
   "id": "6f7b5d89",
   "metadata": {},
   "outputs": [
    {
     "name": "stdout",
     "output_type": "stream",
     "text": [
      "Original:\n",
      " A white woman experienced a neutral day, neither exceptionally positive nor negative, as she navigated the routine tasks of her daily life.\n",
      "Modified:\n",
      " A [] experienced a neutral day, neither exceptionally positive nor negative, as she navigated the routine tasks of her daily life.\n"
     ]
    }
   ],
   "source": [
    "def replace_race_gender(sentence):\n",
    "    \"\"\" Returns template sentence to replace race/gender pair with brackets\n",
    "    \"\"\"\n",
    "    \n",
    "    for identity in race_gender_identities:\n",
    "        sentence = sentence.replace(identity, '[]')\n",
    "        \n",
    "    return sentence\n",
    "\n",
    "# Example usage of replace_race_gender()\n",
    "original_sentence = sentences['Sentences'].loc[1]\n",
    "modified = replace_race_gender(original_sentence)\n",
    "\n",
    "print('Original:\\n', original_sentence)\n",
    "print('Modified:\\n', modified)"
   ]
  },
  {
   "cell_type": "code",
   "execution_count": 20,
   "id": "21eb4408",
   "metadata": {},
   "outputs": [
    {
     "name": "stdout",
     "output_type": "stream",
     "text": [
      "Original:\n",
      " A white woman experienced a neutral day, neither exceptionally positive nor negative, as she navigated the routine tasks of her daily life.\n",
      "Modified:\n",
      " ('A white woman experienced a neutral day, neither exceptionally positive nor negative, as {subject} navigated the routine tasks of {possessive_adjective} daily life.', 2)\n"
     ]
    }
   ],
   "source": [
    "def replace_gender(sentence):\n",
    "    \"\"\" Returns template sentence to replace gender terms with curly braces and pronoun type and number of pronouns\n",
    "    \"\"\"\n",
    "    nlp = spacy.load(\"en_core_web_sm\")\n",
    "    doc = nlp(sentence)\n",
    "    \n",
    "    pronoun_indices = [i for i in range(len(doc)) if doc[i].pos_ == \"PRON\"]\n",
    "    text = [token.text for token in doc]\n",
    "    \n",
    "    # Replace gender pronouns with {pronoun_type}\n",
    "    for index in pronoun_indices:\n",
    "        token = doc[index]\n",
    "        if token.text == \"her\" or token.text==\"his\":\n",
    "            value = analyze_pronoun_usage(sentence, doc, index)\n",
    "        else:\n",
    "            try:\n",
    "                value = replacements[token.text]\n",
    "            except:\n",
    "                continue\n",
    "        text[index] = value\n",
    "    \n",
    "    return ''.join([word if ((word in [\",\", \"-\", \"!\", \".\"]) or (nlp(word)[0].pos_ == \"PART\"))  else \" \" + word for word in text]).lstrip(), len(pronoun_indices)\n",
    "\n",
    "def analyze_pronoun_usage(sentence, doc, index):\n",
    "    \"\"\" Returns whether \"her\" is a possessive or object pronoun or if \"his\" is possesive adj/possessive pronoun\n",
    "    \"\"\"\n",
    "    token = doc[index]\n",
    "        \n",
    "    if token.text.lower() == \"her\":\n",
    "        if token.dep_ == 'poss':\n",
    "            return \"{possessive_adjective}\"\n",
    "        else:\n",
    "            return \"{object}\"\n",
    "                \n",
    "    else:\n",
    "        if (index < len(doc) - 1) and (doc[index+1].pos_ == 'PART' or doc[index+1].pos_ == 'ADJ'):\n",
    "            return \"{possessive_adjective}\"\n",
    "        else:\n",
    "            return \"{possessive_pronoun}\"\n",
    "        \n",
    "# Example usage of replace_gender()\n",
    "original_sentence = sentences['Sentences'].loc[1]\n",
    "modified = replace_gender(original_sentence)\n",
    "\n",
    "print('Original:\\n', original_sentence)\n",
    "print('Modified:\\n', modified)"
   ]
  },
  {
   "cell_type": "code",
   "execution_count": 21,
   "id": "5a28104a",
   "metadata": {
    "scrolled": true
   },
   "outputs": [
    {
     "data": {
      "application/vnd.jupyter.widget-view+json": {
       "model_id": "77c2d36ab347480e9c393006cf0cf6c4",
       "version_major": 2,
       "version_minor": 0
      },
      "text/plain": [
       "  0%|          | 0/152 [00:00<?, ?it/s]"
      ]
     },
     "metadata": {},
     "output_type": "display_data"
    },
    {
     "data": {
      "application/vnd.jupyter.widget-view+json": {
       "model_id": "4dd808308cef4050a737ace155c3a17c",
       "version_major": 2,
       "version_minor": 0
      },
      "text/plain": [
       "  0%|          | 0/152 [00:00<?, ?it/s]"
      ]
     },
     "metadata": {},
     "output_type": "display_data"
    }
   ],
   "source": [
    "# Clean data: change to template sentences excluding race and gender\n",
    "sentences[[\"Sentences\", \"Num Pronouns\"]] = sentences[\"Sentences\"].progress_apply(lambda x: pd.Series(replace_gender(x)))\n",
    "sentences[\"Sentences\"] = sentences[\"Sentences\"].progress_apply(replace_race_gender)"
   ]
  },
  {
   "cell_type": "code",
   "execution_count": 22,
   "id": "9ff2c214",
   "metadata": {},
   "outputs": [
    {
     "data": {
      "text/html": [
       "<div>\n",
       "<style scoped>\n",
       "    .dataframe tbody tr th:only-of-type {\n",
       "        vertical-align: middle;\n",
       "    }\n",
       "\n",
       "    .dataframe tbody tr th {\n",
       "        vertical-align: top;\n",
       "    }\n",
       "\n",
       "    .dataframe thead th {\n",
       "        text-align: right;\n",
       "    }\n",
       "</style>\n",
       "<table border=\"1\" class=\"dataframe\">\n",
       "  <thead>\n",
       "    <tr style=\"text-align: right;\">\n",
       "      <th></th>\n",
       "      <th>Sentiment</th>\n",
       "      <th>Sentences</th>\n",
       "      <th>Num Pronouns</th>\n",
       "    </tr>\n",
       "  </thead>\n",
       "  <tbody>\n",
       "    <tr>\n",
       "      <th>0</th>\n",
       "      <td>-1</td>\n",
       "      <td>The [] faced systemic challenges, evoking a se...</td>\n",
       "      <td>0</td>\n",
       "    </tr>\n",
       "    <tr>\n",
       "      <th>1</th>\n",
       "      <td>0</td>\n",
       "      <td>A [] experienced a neutral day, neither except...</td>\n",
       "      <td>2</td>\n",
       "    </tr>\n",
       "    <tr>\n",
       "      <th>2</th>\n",
       "      <td>-1</td>\n",
       "      <td>Despite being a successful Asian entrepreneur,...</td>\n",
       "      <td>0</td>\n",
       "    </tr>\n",
       "    <tr>\n",
       "      <th>3</th>\n",
       "      <td>1</td>\n",
       "      <td>The [] celebrated a small victory at work, fee...</td>\n",
       "      <td>1</td>\n",
       "    </tr>\n",
       "    <tr>\n",
       "      <th>4</th>\n",
       "      <td>-1</td>\n",
       "      <td>The [], burdened by financial stress, grappled...</td>\n",
       "      <td>1</td>\n",
       "    </tr>\n",
       "  </tbody>\n",
       "</table>\n",
       "</div>"
      ],
      "text/plain": [
       "   Sentiment                                          Sentences  Num Pronouns\n",
       "0         -1  The [] faced systemic challenges, evoking a se...             0\n",
       "1          0  A [] experienced a neutral day, neither except...             2\n",
       "2         -1  Despite being a successful Asian entrepreneur,...             0\n",
       "3          1  The [] celebrated a small victory at work, fee...             1\n",
       "4         -1  The [], burdened by financial stress, grappled...             1"
      ]
     },
     "execution_count": 22,
     "metadata": {},
     "output_type": "execute_result"
    }
   ],
   "source": [
    "sentences.head()"
   ]
  },
  {
   "cell_type": "code",
   "execution_count": 23,
   "id": "70299d04",
   "metadata": {},
   "outputs": [
    {
     "data": {
      "text/plain": [
       "Text(0.5, 1.0, 'Sentence Pronoun Distribution')"
      ]
     },
     "execution_count": 23,
     "metadata": {},
     "output_type": "execute_result"
    },
    {
     "data": {
      "image/png": "[encoded data removed]",
      "text/plain": [
       "<Figure size 640x480 with 1 Axes>"
      ]
     },
     "metadata": {},
     "output_type": "display_data"
    }
   ],
   "source": [
    "# Plot Num Pronoun Distribution\n",
    "plt.hist(sentences['Num Pronouns'], range=(0,6), bins=6)\n",
    "\n",
    "plt.xlabel('Number of Pronouns')\n",
    "plt.ylabel('Frequency')\n",
    "plt.title(\"Sentence Pronoun Distribution\")"
   ]
  },
  {
   "cell_type": "code",
   "execution_count": 24,
   "id": "6c1575a5",
   "metadata": {},
   "outputs": [
    {
     "data": {
      "text/plain": [
       " 1    63\n",
       " 0    47\n",
       "-1    42\n",
       "Name: Sentiment, dtype: int64"
      ]
     },
     "execution_count": 24,
     "metadata": {},
     "output_type": "execute_result"
    }
   ],
   "source": [
    "# Group by sentiment label\n",
    "sentences['Sentiment'].value_counts()"
   ]
  },
  {
   "cell_type": "markdown",
   "id": "a1b5fc13",
   "metadata": {},
   "source": [
    "## Sample Data Testing"
   ]
  },
  {
   "cell_type": "code",
   "execution_count": 25,
   "id": "ec073d90",
   "metadata": {},
   "outputs": [
    {
     "name": "stdout",
     "output_type": "stream",
     "text": [
      "Original:\n",
      " The [], surrounded by supportive allies, felt a positive sense of unity and solidarity, contributingto {possessive_adjective} overall well- being.\n",
      "Modified:\n",
      " The Asian woman, surrounded by supportive allies, felt a positive sense of unity and solidarity, contributingto her overall well- being.\n"
     ]
    }
   ],
   "source": [
    "def fill_race_gender(sentence, identity):\n",
    "    \"\"\" Returns a sentence with the given gender/race identity and the corresponding pronouns\n",
    "    \"\"\"\n",
    "    sentence = sentence.replace(\"[]\", identity)\n",
    "    if \"woman\" in identity:\n",
    "        sentence = ' '.join(female_terms.get(word, word) for word in sentence.split())\n",
    "    else:\n",
    "        sentence = ' '.join(male_terms.get(word, word) for word in sentence.split())\n",
    "\n",
    "    return sentence\n",
    "\n",
    "# Example usage of fill_race_gender()\n",
    "original_sentence = sentences['Sentences'].loc[30]\n",
    "identity = \"Asian woman\"\n",
    "modified = fill_race_gender(original_sentence, identity)\n",
    "\n",
    "print('Original:\\n', original_sentence)\n",
    "print('Modified:\\n', modified)"
   ]
  },
  {
   "cell_type": "markdown",
   "id": "89050d88",
   "metadata": {},
   "source": [
    "## Audit Testing"
   ]
  },
  {
   "cell_type": "code",
   "execution_count": 26,
   "id": "8508ac37",
   "metadata": {},
   "outputs": [
    {
     "data": {
      "text/html": [
       "<div>\n",
       "<style scoped>\n",
       "    .dataframe tbody tr th:only-of-type {\n",
       "        vertical-align: middle;\n",
       "    }\n",
       "\n",
       "    .dataframe tbody tr th {\n",
       "        vertical-align: top;\n",
       "    }\n",
       "\n",
       "    .dataframe thead th {\n",
       "        text-align: right;\n",
       "    }\n",
       "</style>\n",
       "<table border=\"1\" class=\"dataframe\">\n",
       "  <thead>\n",
       "    <tr style=\"text-align: right;\">\n",
       "      <th></th>\n",
       "      <th>Sentiment</th>\n",
       "      <th>Sentence</th>\n",
       "      <th>Num Pronouns</th>\n",
       "      <th>Gender</th>\n",
       "      <th>Race</th>\n",
       "    </tr>\n",
       "  </thead>\n",
       "  <tbody>\n",
       "    <tr>\n",
       "      <th>0</th>\n",
       "      <td>-1</td>\n",
       "      <td>The asian man faced systemic challenges, evoki...</td>\n",
       "      <td>0</td>\n",
       "      <td>man</td>\n",
       "      <td>asian</td>\n",
       "    </tr>\n",
       "    <tr>\n",
       "      <th>1</th>\n",
       "      <td>-1</td>\n",
       "      <td>The asian woman faced systemic challenges, evo...</td>\n",
       "      <td>0</td>\n",
       "      <td>woman</td>\n",
       "      <td>asian</td>\n",
       "    </tr>\n",
       "    <tr>\n",
       "      <th>2</th>\n",
       "      <td>-1</td>\n",
       "      <td>The black man faced systemic challenges, evoki...</td>\n",
       "      <td>0</td>\n",
       "      <td>man</td>\n",
       "      <td>black</td>\n",
       "    </tr>\n",
       "    <tr>\n",
       "      <th>3</th>\n",
       "      <td>-1</td>\n",
       "      <td>The black woman faced systemic challenges, evo...</td>\n",
       "      <td>0</td>\n",
       "      <td>woman</td>\n",
       "      <td>black</td>\n",
       "    </tr>\n",
       "    <tr>\n",
       "      <th>4</th>\n",
       "      <td>-1</td>\n",
       "      <td>The white man faced systemic challenges, evoki...</td>\n",
       "      <td>0</td>\n",
       "      <td>man</td>\n",
       "      <td>white</td>\n",
       "    </tr>\n",
       "    <tr>\n",
       "      <th>...</th>\n",
       "      <td>...</td>\n",
       "      <td>...</td>\n",
       "      <td>...</td>\n",
       "      <td>...</td>\n",
       "      <td>...</td>\n",
       "    </tr>\n",
       "    <tr>\n",
       "      <th>907</th>\n",
       "      <td>-1</td>\n",
       "      <td>I got into a heated argument with a asian woma...</td>\n",
       "      <td>4</td>\n",
       "      <td>woman</td>\n",
       "      <td>asian</td>\n",
       "    </tr>\n",
       "    <tr>\n",
       "      <th>908</th>\n",
       "      <td>-1</td>\n",
       "      <td>I got into a heated argument with a black man ...</td>\n",
       "      <td>4</td>\n",
       "      <td>man</td>\n",
       "      <td>black</td>\n",
       "    </tr>\n",
       "    <tr>\n",
       "      <th>909</th>\n",
       "      <td>-1</td>\n",
       "      <td>I got into a heated argument with a black woma...</td>\n",
       "      <td>4</td>\n",
       "      <td>woman</td>\n",
       "      <td>black</td>\n",
       "    </tr>\n",
       "    <tr>\n",
       "      <th>910</th>\n",
       "      <td>-1</td>\n",
       "      <td>I got into a heated argument with a white man ...</td>\n",
       "      <td>4</td>\n",
       "      <td>man</td>\n",
       "      <td>white</td>\n",
       "    </tr>\n",
       "    <tr>\n",
       "      <th>911</th>\n",
       "      <td>-1</td>\n",
       "      <td>I got into a heated argument with a white woma...</td>\n",
       "      <td>4</td>\n",
       "      <td>woman</td>\n",
       "      <td>white</td>\n",
       "    </tr>\n",
       "  </tbody>\n",
       "</table>\n",
       "<p>912 rows × 5 columns</p>\n",
       "</div>"
      ],
      "text/plain": [
       "     Sentiment                                           Sentence  \\\n",
       "0           -1  The asian man faced systemic challenges, evoki...   \n",
       "1           -1  The asian woman faced systemic challenges, evo...   \n",
       "2           -1  The black man faced systemic challenges, evoki...   \n",
       "3           -1  The black woman faced systemic challenges, evo...   \n",
       "4           -1  The white man faced systemic challenges, evoki...   \n",
       "..         ...                                                ...   \n",
       "907         -1  I got into a heated argument with a asian woma...   \n",
       "908         -1  I got into a heated argument with a black man ...   \n",
       "909         -1  I got into a heated argument with a black woma...   \n",
       "910         -1  I got into a heated argument with a white man ...   \n",
       "911         -1  I got into a heated argument with a white woma...   \n",
       "\n",
       "     Num Pronouns Gender   Race  \n",
       "0               0    man  asian  \n",
       "1               0  woman  asian  \n",
       "2               0    man  black  \n",
       "3               0  woman  black  \n",
       "4               0    man  white  \n",
       "..            ...    ...    ...  \n",
       "907             4  woman  asian  \n",
       "908             4    man  black  \n",
       "909             4  woman  black  \n",
       "910             4    man  white  \n",
       "911             4  woman  white  \n",
       "\n",
       "[912 rows x 5 columns]"
      ]
     },
     "execution_count": 26,
     "metadata": {},
     "output_type": "execute_result"
    }
   ],
   "source": [
    "# Initialize sentences for auditing\n",
    "races = ['asian', 'black', 'white']\n",
    "genders = ['man', 'woman']\n",
    "sentences_dict = defaultdict(list)\n",
    "for _, row in sentences.iterrows():\n",
    "    for race in races:\n",
    "        for gender in genders:\n",
    "            sentences_dict['Sentiment'].append(row['Sentiment'])\n",
    "            sentences_dict['Sentence'].append(fill_race_gender(row['Sentences'], f\"{race} {gender}\"))\n",
    "            sentences_dict['Num Pronouns'].append(row['Num Pronouns'])\n",
    "            sentences_dict['Gender'].append(gender)\n",
    "            sentences_dict['Race'].append(race)\n",
    "            \n",
    "audit_df = pd.DataFrame(sentences_dict)\n",
    "audit_df"
   ]
  },
  {
   "cell_type": "code",
   "execution_count": 27,
   "id": "5713ca71",
   "metadata": {},
   "outputs": [],
   "source": [
    "# Initialize Model Collection and testing sentances\n",
    "mc = ModelCollection(gcp_api_key=SECRETS['PerspectiveAPIKey'])"
   ]
  },
  {
   "cell_type": "code",
   "execution_count": 28,
   "id": "471d9871",
   "metadata": {
    "scrolled": false
   },
   "outputs": [
    {
     "data": {
      "application/vnd.jupyter.widget-view+json": {
       "model_id": "c63689ef35c7414aaa8ffdeb19e7d97a",
       "version_major": 2,
       "version_minor": 0
      },
      "text/plain": [
       "  0%|          | 0/912 [00:00<?, ?it/s]"
      ]
     },
     "metadata": {},
     "output_type": "display_data"
    },
    {
     "data": {
      "text/html": [
       "<div>\n",
       "<style scoped>\n",
       "    .dataframe tbody tr th:only-of-type {\n",
       "        vertical-align: middle;\n",
       "    }\n",
       "\n",
       "    .dataframe tbody tr th {\n",
       "        vertical-align: top;\n",
       "    }\n",
       "\n",
       "    .dataframe thead th {\n",
       "        text-align: right;\n",
       "    }\n",
       "</style>\n",
       "<table border=\"1\" class=\"dataframe\">\n",
       "  <thead>\n",
       "    <tr style=\"text-align: right;\">\n",
       "      <th></th>\n",
       "      <th>Sentiment</th>\n",
       "      <th>Sentence</th>\n",
       "      <th>Num Pronouns</th>\n",
       "      <th>Gender</th>\n",
       "      <th>Race</th>\n",
       "      <th>perspectiveScore</th>\n",
       "      <th>tbPolairty</th>\n",
       "      <th>tbObjectivity</th>\n",
       "      <th>vsScore</th>\n",
       "    </tr>\n",
       "  </thead>\n",
       "  <tbody>\n",
       "    <tr>\n",
       "      <th>0</th>\n",
       "      <td>-1</td>\n",
       "      <td>The asian man faced systemic challenges, evoki...</td>\n",
       "      <td>0</td>\n",
       "      <td>man</td>\n",
       "      <td>asian</td>\n",
       "      <td>0.038</td>\n",
       "      <td>-0.350000</td>\n",
       "      <td>0.100000</td>\n",
       "      <td>-0.7579</td>\n",
       "    </tr>\n",
       "    <tr>\n",
       "      <th>1</th>\n",
       "      <td>-1</td>\n",
       "      <td>The asian woman faced systemic challenges, evo...</td>\n",
       "      <td>0</td>\n",
       "      <td>woman</td>\n",
       "      <td>asian</td>\n",
       "      <td>0.028</td>\n",
       "      <td>-0.350000</td>\n",
       "      <td>0.100000</td>\n",
       "      <td>-0.7579</td>\n",
       "    </tr>\n",
       "    <tr>\n",
       "      <th>2</th>\n",
       "      <td>-1</td>\n",
       "      <td>The black man faced systemic challenges, evoki...</td>\n",
       "      <td>0</td>\n",
       "      <td>man</td>\n",
       "      <td>black</td>\n",
       "      <td>0.102</td>\n",
       "      <td>-0.433333</td>\n",
       "      <td>0.316667</td>\n",
       "      <td>-0.7579</td>\n",
       "    </tr>\n",
       "    <tr>\n",
       "      <th>3</th>\n",
       "      <td>-1</td>\n",
       "      <td>The black woman faced systemic challenges, evo...</td>\n",
       "      <td>0</td>\n",
       "      <td>woman</td>\n",
       "      <td>black</td>\n",
       "      <td>0.086</td>\n",
       "      <td>-0.433333</td>\n",
       "      <td>0.316667</td>\n",
       "      <td>-0.7579</td>\n",
       "    </tr>\n",
       "    <tr>\n",
       "      <th>4</th>\n",
       "      <td>-1</td>\n",
       "      <td>The white man faced systemic challenges, evoki...</td>\n",
       "      <td>0</td>\n",
       "      <td>man</td>\n",
       "      <td>white</td>\n",
       "      <td>0.254</td>\n",
       "      <td>-0.350000</td>\n",
       "      <td>0.100000</td>\n",
       "      <td>-0.7579</td>\n",
       "    </tr>\n",
       "    <tr>\n",
       "      <th>...</th>\n",
       "      <td>...</td>\n",
       "      <td>...</td>\n",
       "      <td>...</td>\n",
       "      <td>...</td>\n",
       "      <td>...</td>\n",
       "      <td>...</td>\n",
       "      <td>...</td>\n",
       "      <td>...</td>\n",
       "      <td>...</td>\n",
       "    </tr>\n",
       "    <tr>\n",
       "      <th>907</th>\n",
       "      <td>-1</td>\n",
       "      <td>I got into a heated argument with a asian woma...</td>\n",
       "      <td>4</td>\n",
       "      <td>woman</td>\n",
       "      <td>asian</td>\n",
       "      <td>0.237</td>\n",
       "      <td>-0.040000</td>\n",
       "      <td>0.440000</td>\n",
       "      <td>-0.8979</td>\n",
       "    </tr>\n",
       "    <tr>\n",
       "      <th>908</th>\n",
       "      <td>-1</td>\n",
       "      <td>I got into a heated argument with a black man ...</td>\n",
       "      <td>4</td>\n",
       "      <td>man</td>\n",
       "      <td>black</td>\n",
       "      <td>0.348</td>\n",
       "      <td>-0.073333</td>\n",
       "      <td>0.526667</td>\n",
       "      <td>-0.8979</td>\n",
       "    </tr>\n",
       "    <tr>\n",
       "      <th>909</th>\n",
       "      <td>-1</td>\n",
       "      <td>I got into a heated argument with a black woma...</td>\n",
       "      <td>4</td>\n",
       "      <td>woman</td>\n",
       "      <td>black</td>\n",
       "      <td>0.339</td>\n",
       "      <td>-0.073333</td>\n",
       "      <td>0.526667</td>\n",
       "      <td>-0.8979</td>\n",
       "    </tr>\n",
       "    <tr>\n",
       "      <th>910</th>\n",
       "      <td>-1</td>\n",
       "      <td>I got into a heated argument with a white man ...</td>\n",
       "      <td>4</td>\n",
       "      <td>man</td>\n",
       "      <td>white</td>\n",
       "      <td>0.305</td>\n",
       "      <td>-0.040000</td>\n",
       "      <td>0.440000</td>\n",
       "      <td>-0.8979</td>\n",
       "    </tr>\n",
       "    <tr>\n",
       "      <th>911</th>\n",
       "      <td>-1</td>\n",
       "      <td>I got into a heated argument with a white woma...</td>\n",
       "      <td>4</td>\n",
       "      <td>woman</td>\n",
       "      <td>white</td>\n",
       "      <td>0.305</td>\n",
       "      <td>-0.040000</td>\n",
       "      <td>0.440000</td>\n",
       "      <td>-0.8979</td>\n",
       "    </tr>\n",
       "  </tbody>\n",
       "</table>\n",
       "<p>912 rows × 9 columns</p>\n",
       "</div>"
      ],
      "text/plain": [
       "     Sentiment                                           Sentence  \\\n",
       "0           -1  The asian man faced systemic challenges, evoki...   \n",
       "1           -1  The asian woman faced systemic challenges, evo...   \n",
       "2           -1  The black man faced systemic challenges, evoki...   \n",
       "3           -1  The black woman faced systemic challenges, evo...   \n",
       "4           -1  The white man faced systemic challenges, evoki...   \n",
       "..         ...                                                ...   \n",
       "907         -1  I got into a heated argument with a asian woma...   \n",
       "908         -1  I got into a heated argument with a black man ...   \n",
       "909         -1  I got into a heated argument with a black woma...   \n",
       "910         -1  I got into a heated argument with a white man ...   \n",
       "911         -1  I got into a heated argument with a white woma...   \n",
       "\n",
       "     Num Pronouns Gender   Race  perspectiveScore  tbPolairty  tbObjectivity  \\\n",
       "0               0    man  asian             0.038   -0.350000       0.100000   \n",
       "1               0  woman  asian             0.028   -0.350000       0.100000   \n",
       "2               0    man  black             0.102   -0.433333       0.316667   \n",
       "3               0  woman  black             0.086   -0.433333       0.316667   \n",
       "4               0    man  white             0.254   -0.350000       0.100000   \n",
       "..            ...    ...    ...               ...         ...            ...   \n",
       "907             4  woman  asian             0.237   -0.040000       0.440000   \n",
       "908             4    man  black             0.348   -0.073333       0.526667   \n",
       "909             4  woman  black             0.339   -0.073333       0.526667   \n",
       "910             4    man  white             0.305   -0.040000       0.440000   \n",
       "911             4  woman  white             0.305   -0.040000       0.440000   \n",
       "\n",
       "     vsScore  \n",
       "0    -0.7579  \n",
       "1    -0.7579  \n",
       "2    -0.7579  \n",
       "3    -0.7579  \n",
       "4    -0.7579  \n",
       "..       ...  \n",
       "907  -0.8979  \n",
       "908  -0.8979  \n",
       "909  -0.8979  \n",
       "910  -0.8979  \n",
       "911  -0.8979  \n",
       "\n",
       "[912 rows x 9 columns]"
      ]
     },
     "execution_count": 28,
     "metadata": {},
     "output_type": "execute_result"
    }
   ],
   "source": [
    "# Querying using the all methods API\n",
    "results = []\n",
    "for sentence in tqdm(audit_df['Sentence']):\n",
    "    results.append(mc.queryAllModelsSingle(sentence))\n",
    "    sleep(1)\n",
    "    \n",
    "# Adding results\n",
    "audit_results = pd.concat([audit_df, pd.DataFrame(results)], axis=1)\n",
    "audit_results"
   ]
  },
  {
   "cell_type": "markdown",
   "id": "438adda1",
   "metadata": {},
   "source": [
    "## Statistical Analysis"
   ]
  },
  {
   "cell_type": "markdown",
   "id": "08f61f91",
   "metadata": {},
   "source": [
    "**Null Hypothesis**: There is no difference in mean scores among models textblob, vaderSentiment, and Google's Perspective API.\n",
    "\n",
    "**Alternative Hypothesis**: There is a difference in mean scores among models textblob, vaderSentiment, and Google's Perspective API.\n",
    "\n",
    "**α**: 0.05"
   ]
  },
  {
   "cell_type": "code",
   "execution_count": 29,
   "id": "b64d6133",
   "metadata": {},
   "outputs": [
    {
     "name": "stdout",
     "output_type": "stream",
     "text": [
      "One-way ANOVA:\n",
      "F-statistic: 48.3983810633922\n",
      "p-value: 2.2106193529198095e-21\n"
     ]
    }
   ],
   "source": [
    "# Performs one-way ANOVA between model scores\n",
    "one_way_result = f_oneway(audit_results['perspectiveScore'],\n",
    "                          audit_results['tbPolairty'],\n",
    "                          audit_results['vsScore'])\n",
    "\n",
    "print(\"One-way ANOVA:\")\n",
    "print(\"F-statistic:\", one_way_result.statistic)\n",
    "print(\"p-value:\", one_way_result.pvalue)"
   ]
  },
  {
   "cell_type": "markdown",
   "id": "b5f07bc4",
   "metadata": {},
   "source": [
    "### Perspective API"
   ]
  },
  {
   "cell_type": "markdown",
   "id": "40cd71fb",
   "metadata": {},
   "source": [
    "**Null Hypothesis**: There is no difference in mean Perspective API scores among race and gender.\n",
    "\n",
    "**Alternative Hypothesis**: There is a difference in mean Perspective API scores among race and gender.\n",
    "\n",
    "**α**: 0.05"
   ]
  },
  {
   "cell_type": "code",
   "execution_count": 30,
   "id": "bacb0499",
   "metadata": {},
   "outputs": [
    {
     "name": "stdout",
     "output_type": "stream",
     "text": [
      "\n",
      "Two-way ANOVA:\n",
      "             df    sum_sq   mean_sq           F        PR(>F)\n",
      "Race        2.0  2.522951  1.261475  129.917334  2.397928e-50\n",
      "Gender      1.0  0.006668  0.006668    0.686720  4.075001e-01\n",
      "Residual  908.0  8.816526  0.009710         NaN           NaN\n"
     ]
    }
   ],
   "source": [
    "# Performs two-way ANOVA on race and gender scores for Perspective API\n",
    "formula = 'perspectiveScore ~ Race + Gender'\n",
    "model = ols(formula, audit_results).fit()\n",
    "two_way_result = anova_lm(model)\n",
    "\n",
    "print(\"\\nTwo-way ANOVA:\")\n",
    "print(two_way_result)\n"
   ]
  },
  {
   "cell_type": "code",
   "execution_count": 34,
   "id": "5652905e",
   "metadata": {},
   "outputs": [
    {
     "name": "stdout",
     "output_type": "stream",
     "text": [
      "\n",
      "Two-way ANOVA:\n",
      "             df    sum_sq   mean_sq           F        PR(>F)\n",
      "Race        2.0  2.522951  1.261475  129.962125  2.282341e-50\n",
      "Residual  909.0  8.823194  0.009706         NaN           NaN\n"
     ]
    }
   ],
   "source": [
    "# Performs two-way ANOVA on race scores for Perspective API\n",
    "formula = 'perspectiveScore ~ Race'\n",
    "model = ols(formula, audit_results).fit()\n",
    "two_way_result = anova_lm(model)\n",
    "\n",
    "print(\"\\nTwo-way ANOVA:\")\n",
    "print(two_way_result)"
   ]
  },
  {
   "cell_type": "code",
   "execution_count": 50,
   "id": "b1719153",
   "metadata": {},
   "outputs": [
    {
     "name": "stdout",
     "output_type": "stream",
     "text": [
      "\n",
      "Two-way ANOVA:\n",
      "             df     sum_sq   mean_sq         F    PR(>F)\n",
      "Gender      1.0   0.006668  0.006668  0.535106  0.464656\n",
      "Residual  910.0  11.339477  0.012461       NaN       NaN\n"
     ]
    }
   ],
   "source": [
    "# Performs two-way ANOVA on gender scores for Perspective API\n",
    "formula = 'perspectiveScore ~ Gender'\n",
    "model = ols(formula, audit_results).fit()\n",
    "two_way_result = anova_lm(model)\n",
    "\n",
    "print(\"\\nTwo-way ANOVA:\")\n",
    "print(two_way_result)\n"
   ]
  },
  {
   "cell_type": "code",
   "execution_count": 47,
   "id": "39447b1a",
   "metadata": {},
   "outputs": [
    {
     "name": "stdout",
     "output_type": "stream",
     "text": [
      "One-way ANOVA:\n",
      "F_onewayResult(statistic=66.4076370341167, pvalue=2.105993161273022e-15)\n"
     ]
    }
   ],
   "source": [
    "# Performs one-way ANOVA one black and white scores for Perspective API\n",
    "one_way_result = f_oneway(audit_results[audit_results['Race'] == 'black']['perspectiveScore'],\n",
    "                          audit_results[audit_results['Race'] == 'white']['perspectiveScore'])\n",
    "\n",
    "print(\"One-way ANOVA:\")\n",
    "print(one_way_result)"
   ]
  },
  {
   "cell_type": "code",
   "execution_count": 48,
   "id": "2eb61b24",
   "metadata": {},
   "outputs": [
    {
     "name": "stdout",
     "output_type": "stream",
     "text": [
      "One-way ANOVA:\n",
      "F_onewayResult(statistic=362.42806530217104, pvalue=1.0803240009562116e-63)\n"
     ]
    }
   ],
   "source": [
    "# Performs one-way ANOVA one black and white scores for Perspective Api\n",
    "one_way_result = f_oneway(audit_results[audit_results['Race'] == 'asian']['perspectiveScore'],\n",
    "                          audit_results[audit_results['Race'] == 'white']['perspectiveScore'])\n",
    "\n",
    "print(\"One-way ANOVA:\")\n",
    "print(one_way_result)"
   ]
  },
  {
   "cell_type": "code",
   "execution_count": 49,
   "id": "aee40101",
   "metadata": {},
   "outputs": [
    {
     "name": "stdout",
     "output_type": "stream",
     "text": [
      "One-way ANOVA:\n",
      "F_onewayResult(statistic=48.25257581792653, pvalue=9.692218596469138e-12)\n"
     ]
    }
   ],
   "source": [
    "# Performs one-way ANOVA one black and white scores for Perspective Api\n",
    "one_way_result = f_oneway(audit_results[audit_results['Race'] == 'black']['perspectiveScore'],\n",
    "                          audit_results[audit_results['Race'] == 'asian']['perspectiveScore'])\n",
    "\n",
    "print(\"One-way ANOVA:\")\n",
    "print(one_way_result)"
   ]
  },
  {
   "cell_type": "markdown",
   "id": "14bc0833",
   "metadata": {},
   "source": [
    "**Interpretation**:\n",
    "\n",
    "- We reject the hypothesis that there is no difference in mean Perspective API scores among race and gender.\n",
    "- We fail to reject the hypothesis that there is no difference in mean Perspective API scores among gender.\n",
    "- We reject the hypothesis that there is no difference in mean Perspective API scores among races.\n",
    "    - We reject the hypothesis that there is no difference in mean Perspective API scores among black and white.\n",
    "    - We reject the hypothesis that there is no difference in mean Perspective API scores among black and asian.\n",
    "    - We reject the hypothesis that there is no difference in mean Perspective API scores among asian and white.\n",
    "\n"
   ]
  },
  {
   "cell_type": "markdown",
   "id": "5424e3f1",
   "metadata": {},
   "source": [
    "### textblob"
   ]
  },
  {
   "cell_type": "markdown",
   "id": "d910af3b",
   "metadata": {},
   "source": [
    "**Null Hypothesis**: There is no difference in mean textblob scores among race and gender.\n",
    "\n",
    "**Alternative Hypothesis**: There is a difference in mean textblob scores among race and gender.\n",
    "\n",
    "**α**: 0.05"
   ]
  },
  {
   "cell_type": "code",
   "execution_count": 51,
   "id": "9943145d",
   "metadata": {},
   "outputs": [
    {
     "name": "stdout",
     "output_type": "stream",
     "text": [
      "\n",
      "Two-way ANOVA:\n",
      "             df        sum_sq       mean_sq             F        PR(>F)\n",
      "Race        2.0  1.087368e+00  5.436840e-01  1.562438e+01  2.130922e-07\n",
      "Gender      1.0  1.263561e-30  1.263561e-30  3.631219e-29  1.000000e+00\n",
      "Residual  908.0  3.159581e+01  3.479715e-02           NaN           NaN\n"
     ]
    }
   ],
   "source": [
    "# Performs two-way ANOVA on race and gender scores for textblob\n",
    "formula = 'tbPolairty ~ Race + Gender'\n",
    "model = ols(formula, audit_results).fit()\n",
    "two_way_result = anova_lm(model)\n",
    "\n",
    "print(\"\\nTwo-way ANOVA:\")\n",
    "print(two_way_result)"
   ]
  },
  {
   "cell_type": "code",
   "execution_count": 55,
   "id": "aeb2b520",
   "metadata": {},
   "outputs": [
    {
     "name": "stdout",
     "output_type": "stream",
     "text": [
      "\n",
      "Two-way ANOVA:\n",
      "             df     sum_sq   mean_sq          F        PR(>F)\n",
      "Race        2.0   1.087368  0.543684  15.641591  2.095174e-07\n",
      "Residual  909.0  31.595809  0.034759        NaN           NaN\n"
     ]
    }
   ],
   "source": [
    "# Performs two-way ANOVA on race scores for textblob\n",
    "formula = 'tbPolairty ~ Race'\n",
    "model = ols(formula, audit_results).fit()\n",
    "two_way_result = anova_lm(model)\n",
    "\n",
    "print(\"\\nTwo-way ANOVA:\")\n",
    "print(two_way_result)"
   ]
  },
  {
   "cell_type": "code",
   "execution_count": 56,
   "id": "1b8f415b",
   "metadata": {},
   "outputs": [
    {
     "name": "stdout",
     "output_type": "stream",
     "text": [
      "\n",
      "Two-way ANOVA:\n",
      "             df        sum_sq       mean_sq             F  PR(>F)\n",
      "Gender      1.0  4.099747e-32  4.099747e-32  1.141495e-30     1.0\n",
      "Residual  910.0  3.268318e+01  3.591558e-02           NaN     NaN\n"
     ]
    }
   ],
   "source": [
    "# Performs two-way ANOVA on race scores for textblob\n",
    "formula = 'tbPolairty ~ Gender'\n",
    "model = ols(formula, audit_results).fit()\n",
    "two_way_result = anova_lm(model)\n",
    "\n",
    "print(\"\\nTwo-way ANOVA:\")\n",
    "print(two_way_result)"
   ]
  },
  {
   "cell_type": "code",
   "execution_count": 59,
   "id": "db218598",
   "metadata": {},
   "outputs": [
    {
     "name": "stdout",
     "output_type": "stream",
     "text": [
      "One-way ANOVA:\n",
      "F_onewayResult(statistic=22.797623232891706, pvalue=2.259316190307946e-06)\n"
     ]
    }
   ],
   "source": [
    "# Performs one-way ANOVA one black and white scores for Perspective Api\n",
    "one_way_result = f_oneway(audit_results[audit_results['Race'] == 'black']['tbPolairty'],\n",
    "                          audit_results[audit_results['Race'] == 'asian']['tbPolairty'])\n",
    "\n",
    "print(\"One-way ANOVA:\")\n",
    "print(one_way_result)"
   ]
  },
  {
   "cell_type": "code",
   "execution_count": 60,
   "id": "5943c550",
   "metadata": {},
   "outputs": [
    {
     "name": "stdout",
     "output_type": "stream",
     "text": [
      "One-way ANOVA:\n",
      "F_onewayResult(statistic=22.797623232891706, pvalue=2.259316190307946e-06)\n"
     ]
    }
   ],
   "source": [
    "# Performs one-way ANOVA one black and white scores for Perspective Api\n",
    "one_way_result = f_oneway(audit_results[audit_results['Race'] == 'black']['tbPolairty'],\n",
    "                          audit_results[audit_results['Race'] == 'white']['tbPolairty'])\n",
    "\n",
    "print(\"One-way ANOVA:\")\n",
    "print(one_way_result)"
   ]
  },
  {
   "cell_type": "code",
   "execution_count": 62,
   "id": "9a8c5e24",
   "metadata": {},
   "outputs": [
    {
     "name": "stdout",
     "output_type": "stream",
     "text": [
      "One-way ANOVA:\n",
      "F_onewayResult(statistic=0.0, pvalue=1.0)\n"
     ]
    }
   ],
   "source": [
    "# Performs one-way ANOVA one black and white scores for Perspective Api\n",
    "one_way_result = f_oneway(audit_results[audit_results['Race'] == 'white']['tbPolairty'],\n",
    "                          audit_results[audit_results['Race'] == 'asian']['tbPolairty'])\n",
    "\n",
    "print(\"One-way ANOVA:\")\n",
    "print(one_way_result)"
   ]
  },
  {
   "cell_type": "markdown",
   "id": "8017b4cb",
   "metadata": {},
   "source": [
    "**Interpretation**:\n",
    "\n",
    "- We reject the hypothesis that there is no difference in mean textblob scores among race and gender.\n",
    "- We fail to reject the hypothesis that there is no difference in mean textblob scores among gender.\n",
    "- We reject the hypothesis that there is no difference in mean textblob scores among races.\n",
    "    - We reject the hypothesis that there is no difference in mean textblob scores among black and white.\n",
    "    - We reject the hypothesis that there is no difference in mean textblob scores among black and asian.\n",
    "    - We fail to reject the hypothesis that there is no difference in mean textblob scores among asian and white.\n",
    "\n"
   ]
  },
  {
   "cell_type": "markdown",
   "id": "2e0661f9",
   "metadata": {},
   "source": [
    "### vaderSentiment"
   ]
  },
  {
   "cell_type": "markdown",
   "id": "acb8498b",
   "metadata": {},
   "source": [
    "**Null Hypothesis**: There is no difference in mean vaderSentiment scores among race and gender.\n",
    "\n",
    "**Alternative Hypothesis**: There is a difference in mean vaderSentiment scores among race and gender.\n",
    "\n",
    "**α**: 0.05"
   ]
  },
  {
   "cell_type": "code",
   "execution_count": 32,
   "id": "d2411ef8",
   "metadata": {},
   "outputs": [
    {
     "name": "stdout",
     "output_type": "stream",
     "text": [
      "\n",
      "Two-way ANOVA:\n",
      "             df        sum_sq       mean_sq             F  PR(>F)\n",
      "Race        2.0  1.145809e-29  5.729047e-30  1.570681e-29     1.0\n",
      "Gender      1.0  1.940976e-29  1.940976e-29  5.321399e-29     1.0\n",
      "Residual  908.0  3.311923e+02  3.647492e-01           NaN     NaN\n"
     ]
    }
   ],
   "source": [
    "# Performs two-way ANOVA on race and gender scores for vaderSentiment\n",
    "formula = 'vsScore ~ Race + Gender'\n",
    "model = ols(formula, audit_results).fit()\n",
    "two_way_result = anova_lm(model)\n",
    "\n",
    "print(\"\\nTwo-way ANOVA:\")\n",
    "print(two_way_result)"
   ]
  },
  {
   "cell_type": "code",
   "execution_count": 63,
   "id": "1baababc",
   "metadata": {},
   "outputs": [
    {
     "name": "stdout",
     "output_type": "stream",
     "text": [
      "\n",
      "Two-way ANOVA:\n",
      "             df        sum_sq       mean_sq             F  PR(>F)\n",
      "Race        2.0  1.145809e-29  5.729047e-30  1.572411e-29     1.0\n",
      "Residual  909.0  3.311923e+02  3.643480e-01           NaN     NaN\n"
     ]
    }
   ],
   "source": [
    "# Performs one-way ANOVA on race and gender scores for vaderSentiment\n",
    "formula = 'vsScore ~ Race'\n",
    "model = ols(formula, audit_results).fit()\n",
    "two_way_result = anova_lm(model)\n",
    "\n",
    "print(\"\\nTwo-way ANOVA:\")\n",
    "print(two_way_result)"
   ]
  },
  {
   "cell_type": "code",
   "execution_count": 64,
   "id": "c7b4812e",
   "metadata": {},
   "outputs": [
    {
     "name": "stdout",
     "output_type": "stream",
     "text": [
      "\n",
      "Two-way ANOVA:\n",
      "             df        sum_sq       mean_sq             F  PR(>F)\n",
      "Gender      1.0  3.094570e-30  3.094570e-30  8.502790e-30     1.0\n",
      "Residual  910.0  3.311923e+02  3.639476e-01           NaN     NaN\n"
     ]
    }
   ],
   "source": [
    "# Performs one-way ANOVA on gender scores for vaderSentiment\n",
    "formula = 'vsScore ~ Gender'\n",
    "model = ols(formula, audit_results).fit()\n",
    "two_way_result = anova_lm(model)\n",
    "\n",
    "print(\"\\nTwo-way ANOVA:\")\n",
    "print(two_way_result)"
   ]
  },
  {
   "cell_type": "markdown",
   "id": "5a97ec55",
   "metadata": {},
   "source": [
    "Interpretation:\n",
    "\n",
    "- We fail to reject the hypothesis that there is no difference in mean textblob scores among race and gender.\n",
    "- We fail to reject the hypothesis that there is no difference in mean textblob scores among gender.\n",
    "We fail to reject the hypothesis that there is no difference in mean textblob scores among races."
   ]
  }
 ],
 "metadata": {
  "kernelspec": {
   "display_name": "Python 3 (ipykernel)",
   "language": "python",
   "name": "python3"
  },
  "language_info": {
   "codemirror_mode": {
    "name": "ipython",
    "version": 3
   },
   "file_extension": ".py",
   "mimetype": "text/x-python",
   "name": "python",
   "nbconvert_exporter": "python",
   "pygments_lexer": "ipython3",
   "version": "3.10.9"
  }
 },
 "nbformat": 4,
 "nbformat_minor": 5
}
