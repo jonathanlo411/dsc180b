{
 "cells": [
  {
   "cell_type": "markdown",
   "id": "d1b13aae",
   "metadata": {},
   "source": [
    "# Model Exploration\n",
    "Purpose is to understand models `textblob`, `vaderSentiment`, and Google's `Perspective API`.<br>\n",
    "By: Elsie Wang<br>\n",
    "Date: 1/23/23"
   ]
  },
  {
   "cell_type": "code",
   "execution_count": 1,
   "id": "0e31d54c",
   "metadata": {},
   "outputs": [],
   "source": [
    "# Model Imports\n",
    "from modelCollection import ModelCollection\n",
    "\n",
    "# Overhead Imports\n",
    "from json import load\n",
    "\n",
    "import pandas as pd\n",
    "import spacy\n",
    "import numpy as np"
   ]
  },
  {
   "cell_type": "code",
   "execution_count": 2,
   "id": "10951cfd",
   "metadata": {},
   "outputs": [],
   "source": [
    "# Loading secrets\n",
    "SECRETS = load(open('../sample.secrets.json', 'r'))"
   ]
  },
  {
   "cell_type": "markdown",
   "id": "1057f37e",
   "metadata": {},
   "source": [
    "## Data Cleaning"
   ]
  },
  {
   "cell_type": "code",
   "execution_count": 4,
   "id": "87b3bcd2",
   "metadata": {},
   "outputs": [
    {
     "data": {
      "text/html": [
       "<div>\n",
       "<style scoped>\n",
       "    .dataframe tbody tr th:only-of-type {\n",
       "        vertical-align: middle;\n",
       "    }\n",
       "\n",
       "    .dataframe tbody tr th {\n",
       "        vertical-align: top;\n",
       "    }\n",
       "\n",
       "    .dataframe thead th {\n",
       "        text-align: right;\n",
       "    }\n",
       "</style>\n",
       "<table border=\"1\" class=\"dataframe\">\n",
       "  <thead>\n",
       "    <tr style=\"text-align: right;\">\n",
       "      <th></th>\n",
       "      <th>Sentiment</th>\n",
       "      <th>Sentences</th>\n",
       "    </tr>\n",
       "  </thead>\n",
       "  <tbody>\n",
       "    <tr>\n",
       "      <th>0</th>\n",
       "      <td>-1</td>\n",
       "      <td>The black man faced systemic challenges, evoki...</td>\n",
       "    </tr>\n",
       "    <tr>\n",
       "      <th>1</th>\n",
       "      <td>0</td>\n",
       "      <td>A white woman experienced a neutral day, neith...</td>\n",
       "    </tr>\n",
       "    <tr>\n",
       "      <th>2</th>\n",
       "      <td>-1</td>\n",
       "      <td>Despite being a successful Asian entrepreneur,...</td>\n",
       "    </tr>\n",
       "    <tr>\n",
       "      <th>3</th>\n",
       "      <td>1</td>\n",
       "      <td>The black woman celebrated a small victory at ...</td>\n",
       "    </tr>\n",
       "    <tr>\n",
       "      <th>4</th>\n",
       "      <td>-1</td>\n",
       "      <td>The white man, burdened by financial stress, g...</td>\n",
       "    </tr>\n",
       "  </tbody>\n",
       "</table>\n",
       "</div>"
      ],
      "text/plain": [
       "   Sentiment                                          Sentences\n",
       "0         -1  The black man faced systemic challenges, evoki...\n",
       "1          0  A white woman experienced a neutral day, neith...\n",
       "2         -1  Despite being a successful Asian entrepreneur,...\n",
       "3          1  The black woman celebrated a small victory at ...\n",
       "4         -1  The white man, burdened by financial stress, g..."
      ]
     },
     "execution_count": 4,
     "metadata": {},
     "output_type": "execute_result"
    }
   ],
   "source": [
    "# Import dataset\n",
    "sentences = pd.read_csv(\"../data/sentiment_sentences.csv\")\n",
    "sentences.head()"
   ]
  },
  {
   "cell_type": "code",
   "execution_count": 5,
   "id": "5411d6a3",
   "metadata": {},
   "outputs": [],
   "source": [
    "race_gender_identities = ['Asian woman', \n",
    "                     'Asian man', \n",
    "                     'black woman', \n",
    "                     'black man', \n",
    "                     'white woman', \n",
    "                     'white man'\n",
    "                         ]\n",
    "female_terms = {\n",
    "    \"{subject}\": \"she\",\n",
    "    \"{possessive_adjective}\": \"her\",\n",
    "    \"{object}\": \"her\",\n",
    "    \"{possessive_pronoun}\": \"hers\",\n",
    "    \"{reflexive}\": \"herself\"\n",
    "}\n",
    "male_terms = {\n",
    "    \"{subject}\": \"he\",\n",
    "    \"{possessive_adjective}\": \"his\",\n",
    "    \"{object}\": \"him\",\n",
    "    \"{possessive_pronoun}\": \"his\",\n",
    "    \"{reflexive}\": \"himself\"\n",
    "}\n",
    "gender_terms = [\"she\", \"her\", \"hers\", \"herself\", \"he\", \"his\", \"him\", \"his\", \"himself\"]\n",
    "replacements = {**{v: k for k, v in female_terms.items()}, **{v: k for k, v in male_terms.items()}}"
   ]
  },
  {
   "cell_type": "code",
   "execution_count": 6,
   "id": "6f7b5d89",
   "metadata": {},
   "outputs": [
    {
     "name": "stdout",
     "output_type": "stream",
     "text": [
      "Original:\n",
      " A white woman experienced a neutral day, neither exceptionally positive nor negative, as she navigated the routine tasks of her daily life.\n",
      "Modified:\n",
      " A [] experienced a neutral day, neither exceptionally positive nor negative, as she navigated the routine tasks of her daily life.\n"
     ]
    }
   ],
   "source": [
    "def replace_race_gender(sentence):\n",
    "    \"\"\" Returns template sentence to replace race/gender pair with brackets\n",
    "    \"\"\"\n",
    "    \n",
    "    for identity in race_gender_identities:\n",
    "        sentence = sentence.replace(identity, '[]')\n",
    "        \n",
    "    return sentence\n",
    "\n",
    "# Example usage of replace_race_gender()\n",
    "original_sentence = sentences['Sentences'].loc[1]\n",
    "modified = replace_race_gender(original_sentence)\n",
    "\n",
    "print('Original:\\n', original_sentence)\n",
    "print('Modified:\\n', modified)"
   ]
  },
  {
   "cell_type": "code",
   "execution_count": 7,
   "id": "21eb4408",
   "metadata": {},
   "outputs": [
    {
     "name": "stdout",
     "output_type": "stream",
     "text": [
      "Original:\n",
      " A white woman experienced a neutral day, neither exceptionally positive nor negative, as she navigated the routine tasks of her daily life.\n",
      "Modified:\n",
      " ('A white woman experienced a neutral day, neither exceptionally positive nor negative, as {subject} navigated the routine tasks of {possessive_adjective} daily life.', 2)\n"
     ]
    }
   ],
   "source": [
    "def replace_gender(sentence):\n",
    "    \"\"\" Returns template sentence to replace gender terms with curly braces and pronoun type and number of pronouns\n",
    "    \"\"\"\n",
    "    nlp = spacy.load(\"en_core_web_sm\")\n",
    "    doc = nlp(sentence)\n",
    "    \n",
    "    pronoun_indices = [i for i in range(len(doc)) if doc[i].pos_ == \"PRON\"]\n",
    "    text = [token.text for token in doc]\n",
    "    \n",
    "    # Replace gender pronouns with {pronoun_type}\n",
    "    for index in pronoun_indices:\n",
    "        token = doc[index]\n",
    "        if token.text == \"her\" or token.text==\"his\":\n",
    "            value = analyze_pronoun_usage(sentence, doc, index)\n",
    "        else:\n",
    "            try:\n",
    "                value = replacements[token.text]\n",
    "            except:\n",
    "                continue\n",
    "        text[index] = value\n",
    "    \n",
    "    return ''.join([word if ((word in [\",\", \"-\", \"!\", \".\"]) or (nlp(word)[0].pos_ == \"PART\"))  else \" \" + word for word in text]).lstrip(), len(pronoun_indices)\n",
    "\n",
    "def analyze_pronoun_usage(sentence, doc, index):\n",
    "    \"\"\" Returns whether \"her\" is a possessive or object pronoun or if \"his\" is possesive adj/possessive pronoun\n",
    "    \"\"\"\n",
    "    token = doc[index]\n",
    "        \n",
    "    if token.text.lower() == \"her\":\n",
    "        if token.dep_ == 'poss':\n",
    "            return \"{possessive_adjective}\"\n",
    "        else:\n",
    "            return \"{object}\"\n",
    "                \n",
    "    else:\n",
    "        if (index < len(doc) - 1) and (doc[index+1].pos_ == 'PART' or doc[index+1].pos_ == 'ADJ'):\n",
    "            return \"{possessive_adjective}\"\n",
    "        else:\n",
    "            return \"{possessive_pronoun}\"\n",
    "        \n",
    "# Example usage of replace_gender()\n",
    "original_sentence = sentences['Sentences'].loc[1]\n",
    "modified = replace_gender(original_sentence)\n",
    "\n",
    "print('Original:\\n', original_sentence)\n",
    "print('Modified:\\n', modified)"
   ]
  },
  {
   "cell_type": "code",
   "execution_count": 8,
   "id": "5a28104a",
   "metadata": {
    "scrolled": true
   },
   "outputs": [],
   "source": [
    "# Clean data: change to template sentences excluding race and gender\n",
    "sentences[[\"Sentences\", \"Num Pronouns\"]] = sentences[\"Sentences\"].apply(lambda x: pd.Series(replace_gender(x)))\n",
    "sentences[\"Sentences\"] = sentences[\"Sentences\"].apply(replace_race_gender)\n",
    "sample_df = sentences.iloc[list(range(0, 50)) + list(range(100, 150))] #Takes sentences that include race/gender"
   ]
  },
  {
   "cell_type": "code",
   "execution_count": 9,
   "id": "ab15f4eb",
   "metadata": {},
   "outputs": [
    {
     "data": {
      "text/html": [
       "<div>\n",
       "<style scoped>\n",
       "    .dataframe tbody tr th:only-of-type {\n",
       "        vertical-align: middle;\n",
       "    }\n",
       "\n",
       "    .dataframe tbody tr th {\n",
       "        vertical-align: top;\n",
       "    }\n",
       "\n",
       "    .dataframe thead th {\n",
       "        text-align: right;\n",
       "    }\n",
       "</style>\n",
       "<table border=\"1\" class=\"dataframe\">\n",
       "  <thead>\n",
       "    <tr style=\"text-align: right;\">\n",
       "      <th></th>\n",
       "      <th>Sentiment</th>\n",
       "      <th>Sentences</th>\n",
       "      <th>Num Pronouns</th>\n",
       "    </tr>\n",
       "  </thead>\n",
       "  <tbody>\n",
       "    <tr>\n",
       "      <th>0</th>\n",
       "      <td>-1</td>\n",
       "      <td>The [] faced systemic challenges, evoking a se...</td>\n",
       "      <td>0</td>\n",
       "    </tr>\n",
       "    <tr>\n",
       "      <th>1</th>\n",
       "      <td>0</td>\n",
       "      <td>A [] experienced a neutral day, neither except...</td>\n",
       "      <td>2</td>\n",
       "    </tr>\n",
       "    <tr>\n",
       "      <th>2</th>\n",
       "      <td>-1</td>\n",
       "      <td>Despite being a successful Asian entrepreneur,...</td>\n",
       "      <td>0</td>\n",
       "    </tr>\n",
       "    <tr>\n",
       "      <th>3</th>\n",
       "      <td>1</td>\n",
       "      <td>The [] celebrated a small victory at work, fee...</td>\n",
       "      <td>1</td>\n",
       "    </tr>\n",
       "    <tr>\n",
       "      <th>4</th>\n",
       "      <td>-1</td>\n",
       "      <td>The [], burdened by financial stress, grappled...</td>\n",
       "      <td>1</td>\n",
       "    </tr>\n",
       "  </tbody>\n",
       "</table>\n",
       "</div>"
      ],
      "text/plain": [
       "   Sentiment                                          Sentences  Num Pronouns\n",
       "0         -1  The [] faced systemic challenges, evoking a se...             0\n",
       "1          0  A [] experienced a neutral day, neither except...             2\n",
       "2         -1  Despite being a successful Asian entrepreneur,...             0\n",
       "3          1  The [] celebrated a small victory at work, fee...             1\n",
       "4         -1  The [], burdened by financial stress, grappled...             1"
      ]
     },
     "execution_count": 9,
     "metadata": {},
     "output_type": "execute_result"
    }
   ],
   "source": [
    "sample_df.head()"
   ]
  },
  {
   "cell_type": "markdown",
   "id": "a1b5fc13",
   "metadata": {},
   "source": [
    "## Sample Testing"
   ]
  },
  {
   "cell_type": "code",
   "execution_count": 10,
   "id": "ec073d90",
   "metadata": {},
   "outputs": [
    {
     "name": "stdout",
     "output_type": "stream",
     "text": [
      "Original:\n",
      " A [] navigated a challenging situation with grace and composure, maintaining a neutral demeanor despite the difficulties {subject} encountered.\n",
      "Modified:\n",
      " A Asian woman navigated a challenging situation with grace and composure, maintaining a neutral demeanor despite the difficulties she encountered.\n"
     ]
    }
   ],
   "source": [
    "def fill_race_gender(sentence, identity):\n",
    "    \"\"\" Returns a sentence with the given gender/race identity and the corresponding pronouns\n",
    "    \"\"\"\n",
    "    sentence = sentence.replace(\"[]\", identity)\n",
    "    if \"woman\" in identity:\n",
    "        sentence = ' '.join(female_terms.get(word, word) for word in sentence.split())\n",
    "    else:\n",
    "        sentence = ' '.join(male_terms.get(word, word) for word in sentence.split())\n",
    "\n",
    "    return sentence\n",
    "\n",
    "# Example usage of fill_race_gender()\n",
    "original_sentence = sample_df['Sentences'].loc[10]\n",
    "identity = \"Asian woman\"\n",
    "modified = fill_race_gender(original_sentence, identity)\n",
    "\n",
    "print('Original:\\n', original_sentence)\n",
    "print('Modified:\\n', modified)"
   ]
  },
  {
   "cell_type": "code",
   "execution_count": 11,
   "id": "5713ca71",
   "metadata": {},
   "outputs": [
    {
     "ename": "DefaultCredentialsError",
     "evalue": "Your default credentials were not found. To set up Application Default Credentials, see https://cloud.google.com/docs/authentication/external/set-up-adc for more information.",
     "output_type": "error",
     "traceback": [
      "\u001b[0;31m---------------------------------------------------------------------------\u001b[0m",
      "\u001b[0;31mDefaultCredentialsError\u001b[0m                   Traceback (most recent call last)",
      "Cell \u001b[0;32mIn[11], line 2\u001b[0m\n\u001b[1;32m      1\u001b[0m \u001b[38;5;66;03m# Initialize Model Collection and testing sentances\u001b[39;00m\n\u001b[0;32m----> 2\u001b[0m mc \u001b[38;5;241m=\u001b[39m \u001b[43mModelCollection\u001b[49m\u001b[43m(\u001b[49m\u001b[43mgcp_api_key\u001b[49m\u001b[38;5;241;43m=\u001b[39;49m\u001b[43mSECRETS\u001b[49m\u001b[43m[\u001b[49m\u001b[38;5;124;43m'\u001b[39;49m\u001b[38;5;124;43mPerspectiveAPIKey\u001b[39;49m\u001b[38;5;124;43m'\u001b[39;49m\u001b[43m]\u001b[49m\u001b[43m)\u001b[49m\n",
      "Cell \u001b[0;32mIn[3], line 5\u001b[0m, in \u001b[0;36mModelCollection.__init__\u001b[0;34m(self, gcp_api_key)\u001b[0m\n\u001b[1;32m      4\u001b[0m \u001b[38;5;28;01mdef\u001b[39;00m \u001b[38;5;21m__init__\u001b[39m(\u001b[38;5;28mself\u001b[39m, gcp_api_key):\n\u001b[0;32m----> 5\u001b[0m     \u001b[38;5;28mself\u001b[39m\u001b[38;5;241m.\u001b[39mperspective_client \u001b[38;5;241m=\u001b[39m \u001b[43mdiscovery\u001b[49m\u001b[38;5;241;43m.\u001b[39;49m\u001b[43mbuild\u001b[49m\u001b[43m(\u001b[49m\n\u001b[1;32m      6\u001b[0m \u001b[43m        \u001b[49m\u001b[38;5;124;43m\"\u001b[39;49m\u001b[38;5;124;43mcommentanalyzer\u001b[39;49m\u001b[38;5;124;43m\"\u001b[39;49m\u001b[43m,\u001b[49m\n\u001b[1;32m      7\u001b[0m \u001b[43m        \u001b[49m\u001b[38;5;124;43m\"\u001b[39;49m\u001b[38;5;124;43mv1alpha1\u001b[39;49m\u001b[38;5;124;43m\"\u001b[39;49m\u001b[43m,\u001b[49m\n\u001b[1;32m      8\u001b[0m \u001b[43m        \u001b[49m\u001b[43mdeveloperKey\u001b[49m\u001b[38;5;241;43m=\u001b[39;49m\u001b[43mgcp_api_key\u001b[49m\u001b[43m,\u001b[49m\n\u001b[1;32m      9\u001b[0m \u001b[43m        \u001b[49m\u001b[43mdiscoveryServiceUrl\u001b[49m\u001b[38;5;241;43m=\u001b[39;49m\u001b[38;5;124;43m\"\u001b[39;49m\u001b[38;5;124;43mhttps://commentanalyzer.googleapis.com/$discovery/rest?version=v1alpha1\u001b[39;49m\u001b[38;5;124;43m\"\u001b[39;49m\u001b[43m,\u001b[49m\n\u001b[1;32m     10\u001b[0m \u001b[43m        \u001b[49m\u001b[43mstatic_discovery\u001b[49m\u001b[38;5;241;43m=\u001b[39;49m\u001b[38;5;28;43;01mFalse\u001b[39;49;00m\n\u001b[1;32m     11\u001b[0m \u001b[43m    \u001b[49m\u001b[43m)\u001b[49m\n\u001b[1;32m     12\u001b[0m     \u001b[38;5;28mself\u001b[39m\u001b[38;5;241m.\u001b[39mvader_analyzer \u001b[38;5;241m=\u001b[39m SentimentIntensityAnalyzer()\n",
      "File \u001b[0;32m~/anaconda3/lib/python3.10/site-packages/googleapiclient/_helpers.py:130\u001b[0m, in \u001b[0;36mpositional.<locals>.positional_decorator.<locals>.positional_wrapper\u001b[0;34m(*args, **kwargs)\u001b[0m\n\u001b[1;32m    128\u001b[0m     \u001b[38;5;28;01melif\u001b[39;00m positional_parameters_enforcement \u001b[38;5;241m==\u001b[39m POSITIONAL_WARNING:\n\u001b[1;32m    129\u001b[0m         logger\u001b[38;5;241m.\u001b[39mwarning(message)\n\u001b[0;32m--> 130\u001b[0m \u001b[38;5;28;01mreturn\u001b[39;00m \u001b[43mwrapped\u001b[49m\u001b[43m(\u001b[49m\u001b[38;5;241;43m*\u001b[39;49m\u001b[43margs\u001b[49m\u001b[43m,\u001b[49m\u001b[43m \u001b[49m\u001b[38;5;241;43m*\u001b[39;49m\u001b[38;5;241;43m*\u001b[39;49m\u001b[43mkwargs\u001b[49m\u001b[43m)\u001b[49m\n",
      "File \u001b[0;32m~/anaconda3/lib/python3.10/site-packages/googleapiclient/discovery.py:298\u001b[0m, in \u001b[0;36mbuild\u001b[0;34m(serviceName, version, http, discoveryServiceUrl, developerKey, model, requestBuilder, credentials, cache_discovery, cache, client_options, adc_cert_path, adc_key_path, num_retries, static_discovery, always_use_jwt_access)\u001b[0m\n\u001b[1;32m    286\u001b[0m \u001b[38;5;28;01mtry\u001b[39;00m:\n\u001b[1;32m    287\u001b[0m     content \u001b[38;5;241m=\u001b[39m _retrieve_discovery_doc(\n\u001b[1;32m    288\u001b[0m         requested_url,\n\u001b[1;32m    289\u001b[0m         discovery_http,\n\u001b[0;32m   (...)\u001b[0m\n\u001b[1;32m    296\u001b[0m         static_discovery\u001b[38;5;241m=\u001b[39mstatic_discovery,\n\u001b[1;32m    297\u001b[0m     )\n\u001b[0;32m--> 298\u001b[0m     service \u001b[38;5;241m=\u001b[39m \u001b[43mbuild_from_document\u001b[49m\u001b[43m(\u001b[49m\n\u001b[1;32m    299\u001b[0m \u001b[43m        \u001b[49m\u001b[43mcontent\u001b[49m\u001b[43m,\u001b[49m\n\u001b[1;32m    300\u001b[0m \u001b[43m        \u001b[49m\u001b[43mbase\u001b[49m\u001b[38;5;241;43m=\u001b[39;49m\u001b[43mdiscovery_url\u001b[49m\u001b[43m,\u001b[49m\n\u001b[1;32m    301\u001b[0m \u001b[43m        \u001b[49m\u001b[43mhttp\u001b[49m\u001b[38;5;241;43m=\u001b[39;49m\u001b[43mhttp\u001b[49m\u001b[43m,\u001b[49m\n\u001b[1;32m    302\u001b[0m \u001b[43m        \u001b[49m\u001b[43mdeveloperKey\u001b[49m\u001b[38;5;241;43m=\u001b[39;49m\u001b[43mdeveloperKey\u001b[49m\u001b[43m,\u001b[49m\n\u001b[1;32m    303\u001b[0m \u001b[43m        \u001b[49m\u001b[43mmodel\u001b[49m\u001b[38;5;241;43m=\u001b[39;49m\u001b[43mmodel\u001b[49m\u001b[43m,\u001b[49m\n\u001b[1;32m    304\u001b[0m \u001b[43m        \u001b[49m\u001b[43mrequestBuilder\u001b[49m\u001b[38;5;241;43m=\u001b[39;49m\u001b[43mrequestBuilder\u001b[49m\u001b[43m,\u001b[49m\n\u001b[1;32m    305\u001b[0m \u001b[43m        \u001b[49m\u001b[43mcredentials\u001b[49m\u001b[38;5;241;43m=\u001b[39;49m\u001b[43mcredentials\u001b[49m\u001b[43m,\u001b[49m\n\u001b[1;32m    306\u001b[0m \u001b[43m        \u001b[49m\u001b[43mclient_options\u001b[49m\u001b[38;5;241;43m=\u001b[39;49m\u001b[43mclient_options\u001b[49m\u001b[43m,\u001b[49m\n\u001b[1;32m    307\u001b[0m \u001b[43m        \u001b[49m\u001b[43madc_cert_path\u001b[49m\u001b[38;5;241;43m=\u001b[39;49m\u001b[43madc_cert_path\u001b[49m\u001b[43m,\u001b[49m\n\u001b[1;32m    308\u001b[0m \u001b[43m        \u001b[49m\u001b[43madc_key_path\u001b[49m\u001b[38;5;241;43m=\u001b[39;49m\u001b[43madc_key_path\u001b[49m\u001b[43m,\u001b[49m\n\u001b[1;32m    309\u001b[0m \u001b[43m        \u001b[49m\u001b[43malways_use_jwt_access\u001b[49m\u001b[38;5;241;43m=\u001b[39;49m\u001b[43malways_use_jwt_access\u001b[49m\u001b[43m,\u001b[49m\n\u001b[1;32m    310\u001b[0m \u001b[43m    \u001b[49m\u001b[43m)\u001b[49m\n\u001b[1;32m    311\u001b[0m     \u001b[38;5;28;01mbreak\u001b[39;00m  \u001b[38;5;66;03m# exit if a service was created\u001b[39;00m\n\u001b[1;32m    312\u001b[0m \u001b[38;5;28;01mexcept\u001b[39;00m HttpError \u001b[38;5;28;01mas\u001b[39;00m e:\n",
      "File \u001b[0;32m~/anaconda3/lib/python3.10/site-packages/googleapiclient/_helpers.py:130\u001b[0m, in \u001b[0;36mpositional.<locals>.positional_decorator.<locals>.positional_wrapper\u001b[0;34m(*args, **kwargs)\u001b[0m\n\u001b[1;32m    128\u001b[0m     \u001b[38;5;28;01melif\u001b[39;00m positional_parameters_enforcement \u001b[38;5;241m==\u001b[39m POSITIONAL_WARNING:\n\u001b[1;32m    129\u001b[0m         logger\u001b[38;5;241m.\u001b[39mwarning(message)\n\u001b[0;32m--> 130\u001b[0m \u001b[38;5;28;01mreturn\u001b[39;00m \u001b[43mwrapped\u001b[49m\u001b[43m(\u001b[49m\u001b[38;5;241;43m*\u001b[39;49m\u001b[43margs\u001b[49m\u001b[43m,\u001b[49m\u001b[43m \u001b[49m\u001b[38;5;241;43m*\u001b[39;49m\u001b[38;5;241;43m*\u001b[39;49m\u001b[43mkwargs\u001b[49m\u001b[43m)\u001b[49m\n",
      "File \u001b[0;32m~/anaconda3/lib/python3.10/site-packages/googleapiclient/discovery.py:580\u001b[0m, in \u001b[0;36mbuild_from_document\u001b[0;34m(service, base, future, http, developerKey, model, requestBuilder, credentials, client_options, adc_cert_path, adc_key_path, always_use_jwt_access)\u001b[0m\n\u001b[1;32m    577\u001b[0m \u001b[38;5;66;03m# If the user didn't pass in credentials, attempt to acquire application\u001b[39;00m\n\u001b[1;32m    578\u001b[0m \u001b[38;5;66;03m# default credentials.\u001b[39;00m\n\u001b[1;32m    579\u001b[0m \u001b[38;5;28;01mif\u001b[39;00m credentials \u001b[38;5;129;01mis\u001b[39;00m \u001b[38;5;28;01mNone\u001b[39;00m:\n\u001b[0;32m--> 580\u001b[0m     credentials \u001b[38;5;241m=\u001b[39m \u001b[43m_auth\u001b[49m\u001b[38;5;241;43m.\u001b[39;49m\u001b[43mdefault_credentials\u001b[49m\u001b[43m(\u001b[49m\n\u001b[1;32m    581\u001b[0m \u001b[43m        \u001b[49m\u001b[43mscopes\u001b[49m\u001b[38;5;241;43m=\u001b[39;49m\u001b[43mclient_options\u001b[49m\u001b[38;5;241;43m.\u001b[39;49m\u001b[43mscopes\u001b[49m\u001b[43m,\u001b[49m\n\u001b[1;32m    582\u001b[0m \u001b[43m        \u001b[49m\u001b[43mquota_project_id\u001b[49m\u001b[38;5;241;43m=\u001b[39;49m\u001b[43mclient_options\u001b[49m\u001b[38;5;241;43m.\u001b[39;49m\u001b[43mquota_project_id\u001b[49m\u001b[43m,\u001b[49m\n\u001b[1;32m    583\u001b[0m \u001b[43m    \u001b[49m\u001b[43m)\u001b[49m\n\u001b[1;32m    585\u001b[0m \u001b[38;5;66;03m# The credentials need to be scoped.\u001b[39;00m\n\u001b[1;32m    586\u001b[0m \u001b[38;5;66;03m# If the user provided scopes via client_options don't override them\u001b[39;00m\n\u001b[1;32m    587\u001b[0m \u001b[38;5;28;01mif\u001b[39;00m \u001b[38;5;129;01mnot\u001b[39;00m client_options\u001b[38;5;241m.\u001b[39mscopes:\n",
      "File \u001b[0;32m~/anaconda3/lib/python3.10/site-packages/googleapiclient/_auth.py:57\u001b[0m, in \u001b[0;36mdefault_credentials\u001b[0;34m(scopes, quota_project_id)\u001b[0m\n\u001b[1;32m     55\u001b[0m \u001b[38;5;124;03m\"\"\"Returns Application Default Credentials.\"\"\"\u001b[39;00m\n\u001b[1;32m     56\u001b[0m \u001b[38;5;28;01mif\u001b[39;00m HAS_GOOGLE_AUTH:\n\u001b[0;32m---> 57\u001b[0m     credentials, _ \u001b[38;5;241m=\u001b[39m \u001b[43mgoogle\u001b[49m\u001b[38;5;241;43m.\u001b[39;49m\u001b[43mauth\u001b[49m\u001b[38;5;241;43m.\u001b[39;49m\u001b[43mdefault\u001b[49m\u001b[43m(\u001b[49m\n\u001b[1;32m     58\u001b[0m \u001b[43m        \u001b[49m\u001b[43mscopes\u001b[49m\u001b[38;5;241;43m=\u001b[39;49m\u001b[43mscopes\u001b[49m\u001b[43m,\u001b[49m\u001b[43m \u001b[49m\u001b[43mquota_project_id\u001b[49m\u001b[38;5;241;43m=\u001b[39;49m\u001b[43mquota_project_id\u001b[49m\n\u001b[1;32m     59\u001b[0m \u001b[43m    \u001b[49m\u001b[43m)\u001b[49m\n\u001b[1;32m     60\u001b[0m     \u001b[38;5;28;01mreturn\u001b[39;00m credentials\n\u001b[1;32m     61\u001b[0m \u001b[38;5;28;01melif\u001b[39;00m HAS_OAUTH2CLIENT:\n",
      "File \u001b[0;32m~/anaconda3/lib/python3.10/site-packages/google/auth/_default.py:691\u001b[0m, in \u001b[0;36mdefault\u001b[0;34m(scopes, request, quota_project_id, default_scopes)\u001b[0m\n\u001b[1;32m    683\u001b[0m             _LOGGER\u001b[38;5;241m.\u001b[39mwarning(\n\u001b[1;32m    684\u001b[0m                 \u001b[38;5;124m\"\u001b[39m\u001b[38;5;124mNo project ID could be determined. Consider running \u001b[39m\u001b[38;5;124m\"\u001b[39m\n\u001b[1;32m    685\u001b[0m                 \u001b[38;5;124m\"\u001b[39m\u001b[38;5;124m`gcloud config set project` or setting the \u001b[39m\u001b[38;5;132;01m%s\u001b[39;00m\u001b[38;5;124m \u001b[39m\u001b[38;5;124m\"\u001b[39m\n\u001b[1;32m    686\u001b[0m                 \u001b[38;5;124m\"\u001b[39m\u001b[38;5;124menvironment variable\u001b[39m\u001b[38;5;124m\"\u001b[39m,\n\u001b[1;32m    687\u001b[0m                 environment_vars\u001b[38;5;241m.\u001b[39mPROJECT,\n\u001b[1;32m    688\u001b[0m             )\n\u001b[1;32m    689\u001b[0m         \u001b[38;5;28;01mreturn\u001b[39;00m credentials, effective_project_id\n\u001b[0;32m--> 691\u001b[0m \u001b[38;5;28;01mraise\u001b[39;00m exceptions\u001b[38;5;241m.\u001b[39mDefaultCredentialsError(_CLOUD_SDK_MISSING_CREDENTIALS)\n",
      "\u001b[0;31mDefaultCredentialsError\u001b[0m: Your default credentials were not found. To set up Application Default Credentials, see https://cloud.google.com/docs/authentication/external/set-up-adc for more information."
     ]
    }
   ],
   "source": [
    "# Initialize Model Collection and testing sentances\n",
    "mc = ModelCollection(gcp_api_key=SECRETS['PerspectiveAPIKey'])"
   ]
  },
  {
   "cell_type": "code",
   "execution_count": null,
   "id": "221188b9",
   "metadata": {},
   "outputs": [],
   "source": [
    "races = ['asian', 'black', 'white']\n",
    "gender = ['him', 'her', 'man', 'woman']"
   ]
  },
  {
   "cell_type": "code",
   "execution_count": null,
   "id": "1ce2f89c",
   "metadata": {},
   "outputs": [],
   "source": [
    "# Querying using individual methods\n",
    "results = []\n",
    "for sentence in sentences['Sentences']:\n",
    "    result = {\n",
    "        'perspectiveScore': mc.queryPerspective(sentence),\n",
    "        'tbPolairty': mc.queryTextBlobPolairty(sentence),\n",
    "        'tbObjectivity': mc.queryTextBlobObjectivity(sentence),\n",
    "        'vsScore': mc.queryVaderSentiment(sentence)\n",
    "    }\n",
    "    results.append(result)\n",
    "    \n",
    "results"
   ]
  },
  {
   "cell_type": "code",
   "execution_count": null,
   "id": "471d9871",
   "metadata": {},
   "outputs": [],
   "source": [
    "# Querying using the all methods API\n",
    "results = []\n",
    "for sentence in sentences:\n",
    "    results.append(mc.queryAllModelsSingle(sentence))\n",
    "    \n",
    "results"
   ]
  },
  {
   "cell_type": "code",
   "execution_count": null,
   "id": "530e76b7",
   "metadata": {},
   "outputs": [],
   "source": [
    "# Query using the bulk API\n",
    "results = mc.queryAllModelsBulk(sentences)\n",
    "results"
   ]
  }
 ],
 "metadata": {
  "kernelspec": {
   "display_name": "Python 3 (ipykernel)",
   "language": "python",
   "name": "python3"
  },
  "language_info": {
   "codemirror_mode": {
    "name": "ipython",
    "version": 3
   },
   "file_extension": ".py",
   "mimetype": "text/x-python",
   "name": "python",
   "nbconvert_exporter": "python",
   "pygments_lexer": "ipython3",
   "version": "3.10.9"
  }
 },
 "nbformat": 4,
 "nbformat_minor": 5
}
